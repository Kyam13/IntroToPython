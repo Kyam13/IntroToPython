{
 "cells": [
  {
   "cell_type": "markdown",
   "metadata": {},
   "source": [
    "# Lesson 2: First steps into text processing"
   ]
  },
  {
   "cell_type": "markdown",
   "metadata": {},
   "source": [
    "    ### Student name Koki Yamashita/ ID: s1230041"
   ]
  },
  {
   "cell_type": "markdown",
   "metadata": {},
   "source": [
    "---"
   ]
  },
  {
   "cell_type": "markdown",
   "metadata": {},
   "source": [
    "All the data used in this Lesson are located under \"data/\" directory. In order to be independent of the place where these data can be, we will define DATA_PATH variable like this:"
   ]
  },
  {
   "cell_type": "code",
   "execution_count": 1,
   "metadata": {
    "collapsed": true
   },
   "outputs": [],
   "source": [
    "DATA_PATH = './'"
   ]
  },
  {
   "cell_type": "markdown",
   "metadata": {},
   "source": [
    "## Reading files"
   ]
  },
  {
   "cell_type": "markdown",
   "metadata": {},
   "source": [
    "\n",
    "Say you have a text stored on your computer. How can we read that text using Python? Python provides a really simple function called `open` with which we can read texts. In the folder `data` you find a couple of small text excerpts that we will use in this lesson. Go ahead and have a look at them. We can open these files with the following command:"
   ]
  },
  {
   "cell_type": "code",
   "execution_count": 2,
   "metadata": {
    "collapsed": true
   },
   "outputs": [],
   "source": [
    "infile = open(DATA_PATH + 'data/austen-emma-excerpt.txt')"
   ]
  },
  {
   "cell_type": "markdown",
   "metadata": {},
   "source": [
    "We now print `infile`. What do you think that will happen?"
   ]
  },
  {
   "cell_type": "code",
   "execution_count": 3,
   "metadata": {},
   "outputs": [
    {
     "name": "stdout",
     "output_type": "stream",
     "text": [
      "<_io.TextIOWrapper name='./data/austen-emma-excerpt.txt' mode='r' encoding='UTF-8'>\n"
     ]
    }
   ],
   "source": [
    "print(infile)"
   ]
  },
  {
   "cell_type": "markdown",
   "metadata": {},
   "source": [
    "\"Hey! That's not what I expected to happen!\", you might think. Python is not printing the contents of the file but only some mysterious mention of some `TextIOWrapper`. This `TextIOWrapper` thing is Python's way of saying it has *opened* a connection to the file `data/austen-emma-excerpt.txt`. In order to *read* the contents of the file we must add the function `read` as follows:"
   ]
  },
  {
   "cell_type": "code",
   "execution_count": 4,
   "metadata": {},
   "outputs": [
    {
     "name": "stdout",
     "output_type": "stream",
     "text": [
      "Emma by Jane Austen 1816\n",
      "\n",
      "VOLUME I\n",
      "\n",
      "CHAPTER I\n",
      "\n",
      "\n",
      "Emma Woodhouse, handsome, clever, and rich, with a comfortable home\n",
      "and happy disposition, seemed to unite some of the best blessings\n",
      "of existence; and had lived nearly twenty-one years in the world\n",
      "with very little to distress or vex her.\n",
      "\n",
      "She was the youngest of the two daughters of a most affectionate,\n",
      "indulgent father; and had, in consequence of her sister's marriage,\n",
      "been mistress of his house from a very early period.  Her mother\n",
      "had died too long ago for her to have more than an indistinct\n",
      "remembrance of her caresses; and her place had been supplied\n",
      "by an excellent woman as governess, who had fallen little short\n",
      "of a mother in affection.\n"
     ]
    }
   ],
   "source": [
    "print(infile.read())"
   ]
  },
  {
   "cell_type": "markdown",
   "metadata": {},
   "source": [
    "`read` is a function that operates on `TextWrapper` objects and allows us to read the contents of a file into Python. Let's assign the contents of the file to the variable `text`:"
   ]
  },
  {
   "cell_type": "code",
   "execution_count": 8,
   "metadata": {},
   "outputs": [
    {
     "name": "stdout",
     "output_type": "stream",
     "text": [
      "Emma by Jane Austen 1816\n",
      "\n",
      "VOLUME I\n",
      "\n",
      "CHAPTER I\n",
      "\n",
      "\n",
      "Emma Woodhouse, handsome, clever, and rich, with a comfortable home\n",
      "and happy disposition, seemed to unite some of the best blessings\n",
      "of existence; and had lived nearly twenty-one years in the world\n",
      "with very little to distress or vex her.\n",
      "\n",
      "She was the youngest of the two daughters of a most affectionate,\n",
      "indulgent father; and had, in consequence of her sister's marriage,\n",
      "been mistress of his house from a very early period.  Her mother\n",
      "had died too long ago for her to have more than an indistinct\n",
      "remembrance of her caresses; and her place had been supplied\n",
      "by an excellent woman as governess, who had fallen little short\n",
      "of a mother in affection.\n"
     ]
    }
   ],
   "source": [
    "infile = open(DATA_PATH + 'data/austen-emma-excerpt.txt')\n",
    "text = infile.read()\n",
    "print(text)"
   ]
  },
  {
   "cell_type": "markdown",
   "metadata": {},
   "source": [
    "The variable `text` now holds the contents of the file `data/austen-emma-excerpt.txt` and we can access and manipulate it just like any other string. After we read the contents of a file, the `TextWrapper` no longer needs to be open. In fact, it is good practice to close it as soon as you do not need it anymore. Now, lo and behold, we can achieve that with the following:"
   ]
  },
  {
   "cell_type": "code",
   "execution_count": 9,
   "metadata": {
    "collapsed": true
   },
   "outputs": [],
   "source": [
    "infile.close()"
   ]
  },
  {
   "cell_type": "markdown",
   "metadata": {},
   "source": [
    "#### Quiz!"
   ]
  },
  {
   "cell_type": "markdown",
   "metadata": {},
   "source": [
    "Just to recap some of the stuff we learnt in the previous lesson. Can you write code that defines the variable `number_of_es` and counts how many times the letter *e* occurs in `text`? (Tip: use a `for` loop and an `if` statement)"
   ]
  },
  {
   "cell_type": "code",
   "execution_count": 10,
   "metadata": {},
   "outputs": [
    {
     "name": "stdout",
     "output_type": "stream",
     "text": [
      "True\n"
     ]
    }
   ],
   "source": [
    "number_of_es = 0\n",
    "# insert your code here\n",
    "for key in text:\n",
    "    number_of_es += list(key).count('e')\n",
    "# The following test should print True if your code is correct \n",
    "print(number_of_es == 78)"
   ]
  },
  {
   "cell_type": "markdown",
   "metadata": {},
   "source": [
    "## Writing our first function"
   ]
  },
  {
   "cell_type": "markdown",
   "metadata": {},
   "source": [
    "In the previous quiz, you probably wrote a loop that iterates over all characters in `text` and adds 1 to `number_of_es` each time the program finds the letter *e*. Counting objects in a text is a very common thing to do. Therefore, Python provides the convenient function `count`. This function operates on strings (`somestring.count(argument)`) and takes as argument the object you want to count. Using this function, the solution to the quiz above can now be rewritten as follows:"
   ]
  },
  {
   "cell_type": "code",
   "execution_count": 11,
   "metadata": {},
   "outputs": [
    {
     "name": "stdout",
     "output_type": "stream",
     "text": [
      "78\n"
     ]
    }
   ],
   "source": [
    "number_of_es = text.count(\"e\")\n",
    "print(number_of_es)"
   ]
  },
  {
   "cell_type": "markdown",
   "metadata": {},
   "source": [
    "In fact, `count` takes as argument any string you would like to find. We could just as well count how often the determiner `an` occurs:"
   ]
  },
  {
   "cell_type": "code",
   "execution_count": 12,
   "metadata": {},
   "outputs": [
    {
     "name": "stdout",
     "output_type": "stream",
     "text": [
      "12\n"
     ]
    }
   ],
   "source": [
    "print(text.count(\"an\"))"
   ]
  },
  {
   "cell_type": "markdown",
   "metadata": {},
   "source": [
    "The string `an` is found 12 times in our text. Does that mean that the word *an* occurs 12 times in our text? Go ahead. Count it yourself. In fact, *an* occurs only twice... Think about this. Why does Python print 12?\n",
    "\n",
    "If we want to count how often the word *an* occurs in the text and not the string `an`, we could surround *an* with spaces, like the following:"
   ]
  },
  {
   "cell_type": "code",
   "execution_count": 13,
   "metadata": {},
   "outputs": [
    {
     "name": "stdout",
     "output_type": "stream",
     "text": [
      "2\n"
     ]
    }
   ],
   "source": [
    "print(text.count(\" an \"))"
   ]
  },
  {
   "cell_type": "markdown",
   "metadata": {},
   "source": [
    "Although it gets the job done in this particular case, it is generally not a very solid way of counting words in a text. What if there are instances of *an* followed by a semicolon or some end-of-sentence marker? Then we would need to query the text multiple times for each possible context of *an*. For that reason, we're going to approach the problem using a different, more sophisticated strategy. \n",
    "\n",
    "Recall from the previous lesson the function `split`. What does this function do? The function `split` operates on a string and splits a string on spaces and returns a list of smaller strings (or words):"
   ]
  },
  {
   "cell_type": "code",
   "execution_count": 14,
   "metadata": {},
   "outputs": [
    {
     "name": "stdout",
     "output_type": "stream",
     "text": [
      "['Emma', 'by', 'Jane', 'Austen', '1816', 'VOLUME', 'I', 'CHAPTER', 'I', 'Emma', 'Woodhouse,', 'handsome,', 'clever,', 'and', 'rich,', 'with', 'a', 'comfortable', 'home', 'and', 'happy', 'disposition,', 'seemed', 'to', 'unite', 'some', 'of', 'the', 'best', 'blessings', 'of', 'existence;', 'and', 'had', 'lived', 'nearly', 'twenty-one', 'years', 'in', 'the', 'world', 'with', 'very', 'little', 'to', 'distress', 'or', 'vex', 'her.', 'She', 'was', 'the', 'youngest', 'of', 'the', 'two', 'daughters', 'of', 'a', 'most', 'affectionate,', 'indulgent', 'father;', 'and', 'had,', 'in', 'consequence', 'of', 'her', \"sister's\", 'marriage,', 'been', 'mistress', 'of', 'his', 'house', 'from', 'a', 'very', 'early', 'period.', 'Her', 'mother', 'had', 'died', 'too', 'long', 'ago', 'for', 'her', 'to', 'have', 'more', 'than', 'an', 'indistinct', 'remembrance', 'of', 'her', 'caresses;', 'and', 'her', 'place', 'had', 'been', 'supplied', 'by', 'an', 'excellent', 'woman', 'as', 'governess,', 'who', 'had', 'fallen', 'little', 'short', 'of', 'a', 'mother', 'in', 'affection.']\n"
     ]
    }
   ],
   "source": [
    "print(text.split())"
   ]
  },
  {
   "cell_type": "markdown",
   "metadata": {},
   "source": [
    "#### Quiz!"
   ]
  },
  {
   "cell_type": "markdown",
   "metadata": {},
   "source": [
    "All the things you have learnt so far should enable you to write code that counts how often a certain items occurs in a list. Write some code that defines the variable `number_of_hits` and counts how often the word *in* (assigned to `item_to_count`) occurs in the the list of words called `words`."
   ]
  },
  {
   "cell_type": "code",
   "execution_count": 15,
   "metadata": {},
   "outputs": [
    {
     "name": "stdout",
     "output_type": "stream",
     "text": [
      "True\n"
     ]
    }
   ],
   "source": [
    "words = text.split()\n",
    "number_of_hits = 0\n",
    "item_to_count = \"in\"\n",
    "# insert your code here\n",
    "for key in words:\n",
    "    if key==item_to_count:\n",
    "        number_of_hits += 1\n",
    "# The following test should print True if your code is correct \n",
    "print(number_of_hits == 3)"
   ]
  },
  {
   "cell_type": "markdown",
   "metadata": {},
   "source": [
    "We will go through the previous quiz step by step. We would like to know how often the preposition *in* occurs in our text. As a first step we will split the string `text` into a list of words:"
   ]
  },
  {
   "cell_type": "code",
   "execution_count": 17,
   "metadata": {
    "collapsed": true
   },
   "outputs": [],
   "source": [
    "words = text.split()"
   ]
  },
  {
   "cell_type": "markdown",
   "metadata": {},
   "source": [
    "Next we define a variable `number_of_hits` and set it to zero."
   ]
  },
  {
   "cell_type": "code",
   "execution_count": 18,
   "metadata": {
    "collapsed": true
   },
   "outputs": [],
   "source": [
    "number_of_hits = 0"
   ]
  },
  {
   "cell_type": "markdown",
   "metadata": {},
   "source": [
    "The final step is to loop over all words in `words` and add 1 to `number_of_ins` if we find a word that is equal to `in`:"
   ]
  },
  {
   "cell_type": "code",
   "execution_count": 19,
   "metadata": {},
   "outputs": [
    {
     "name": "stdout",
     "output_type": "stream",
     "text": [
      "3\n"
     ]
    }
   ],
   "source": [
    "item_to_count = \"in\"\n",
    "for word in words:\n",
    "    if word == item_to_count:\n",
    "        number_of_hits += 1\n",
    "print(number_of_hits)"
   ]
  },
  {
   "cell_type": "markdown",
   "metadata": {},
   "source": [
    "Now, say we would like to know how often the word *of* occurs in our text. We could adapt the previous lines of code to search for the word *of*, but what if we also would like to count the number of times *the* occurs, and *house* and *had* and... It would be really cumbersome to repeat all these lines of code for each particular search term we have. Programming is supposed to reduce our workload, not increase it. Just like the function `count` for strings, we would like to have a function that operates on lists, takes as argument the object we would like to count and returns the number of times this object occurs in our list.\n",
    "\n",
    "In this and the previous lesson you have already seen lots of functions. A function does something, often based on some argument you pass to it, and generally returns a result. You are not just limited to using functions in the standard library but you can write your own functions.\n",
    "\n",
    "In fact, you *must* write your own functions. Separating your problem into sub-problems and writing a function for each of those is an immensely important part of well-structured programming. Functions are defined using the `def` keyword, they take a name and optionally a number of parameters. \n",
    "\n",
    "    def some_name(optional_parameters):\n",
    "\n",
    "The `return` statement returns a value back to the caller and always ends the execution of the function. \n",
    "\n",
    "Going back to our problem, we want to write a function called `count_in_list`. It takes two arguments: (1) the object we would like to count and (2) the list in which we want to count that object. Let's write down the function definition in Python:\n",
    "\n",
    "    def count_in_list(item_to_count, list_to_search):\n",
    "    \n",
    "Do you understand all the syntax and keywords in the definition above? Now all we need to do is to add the lines of code we wrote before to the body of this function:"
   ]
  },
  {
   "cell_type": "code",
   "execution_count": 20,
   "metadata": {
    "collapsed": true
   },
   "outputs": [],
   "source": [
    "def count_in_list(item_to_count, list_to_search): \n",
    "    number_of_hits = 0                            \n",
    "    for item in list_to_search:                   \n",
    "        if item == item_to_count:                 \n",
    "            number_of_hits += 1                   \n",
    "    return number_of_hits                         "
   ]
  },
  {
   "cell_type": "markdown",
   "metadata": {},
   "source": [
    "All code should be familiar to you, except the `return` keyword. The `return` keyword is there to tell python to return as a result of calling the function the argument `number_of_hits`. OK, let's go through our function one more time, just to make sure you really understand all of it.\n",
    "\n",
    "1. First we define a function using `def` and give it the name `count_in_list` (line 1);\n",
    "2. This function takes two arguments: `item_to_count` and `list_to_search` (line 1);\n",
    "3. Within the function, we define a variable `number_of_hits` and assign to it the value zero (since at that stage we haven't found anything yet (line 2));\n",
    "4. We loop over all words in `list_to_search` (line 3);\n",
    "5. If we find a word that is equal to `item_to_count` (line 4), we add 1 to `number_of_hits` (line 5);\n",
    "6. Return the result of `number_of_hits` (line 6).\n",
    "\n",
    "Let's test our little function! We will first count how often the word *an* occurs in our list of words `words`."
   ]
  },
  {
   "cell_type": "code",
   "execution_count": 21,
   "metadata": {},
   "outputs": [
    {
     "name": "stdout",
     "output_type": "stream",
     "text": [
      "2\n"
     ]
    }
   ],
   "source": [
    "print(count_in_list(\"an\", words))"
   ]
  },
  {
   "cell_type": "markdown",
   "metadata": {},
   "source": [
    "#### Quiz!"
   ]
  },
  {
   "cell_type": "markdown",
   "metadata": {},
   "source": [
    "Using the function we defined, print how often the word *the* occurs in our text"
   ]
  },
  {
   "cell_type": "code",
   "execution_count": 22,
   "metadata": {},
   "outputs": [
    {
     "name": "stdout",
     "output_type": "stream",
     "text": [
      "276\n"
     ]
    }
   ],
   "source": [
    "# insert your code here\n",
    "count =0\n",
    "for key in words:\n",
    "    count += count_in_list(key,words)\n",
    "    \n",
    "print(count)"
   ]
  },
  {
   "cell_type": "markdown",
   "metadata": {},
   "source": [
    "## A more general count function"
   ]
  },
  {
   "cell_type": "markdown",
   "metadata": {},
   "source": [
    "Our function `count_in_list` is a concise and convenient piece of code allowing us to rapidly and without too much repitition count how often certain items occur in a given list. Now what if we would like to find out for all words in our text how often they occur. Then it would be still quite cumbersome to call our function for each unique word. We would like to have a function that takes as argument a particular list and counts for each unique item in that list how often it occurs. There are multiple ways of writing such a function. We will show you two ways of doing it."
   ]
  },
  {
   "cell_type": "markdown",
   "metadata": {},
   "source": [
    "### A count function (take 1)"
   ]
  },
  {
   "cell_type": "markdown",
   "metadata": {},
   "source": [
    "In the previous lesson you have acquainted yourself with the `dictionary` structure. Recall that a dictionary consists of keys and values and allows you to quickly lookup a value. We will use a dictionary to write the function `counter` that takes as argument a list and returns a `dictionary` with `keys` for each unique item and `values` showing the number of times it occurs in the list. We will first write some code without the function declaration. If that works, we will add it, just as before, to the body of a function.\n",
    "\n",
    "We start with defining a variable `counts` which is an empty dictionary:"
   ]
  },
  {
   "cell_type": "code",
   "execution_count": 23,
   "metadata": {
    "collapsed": true
   },
   "outputs": [],
   "source": [
    "counts = {}"
   ]
  },
  {
   "cell_type": "markdown",
   "metadata": {},
   "source": [
    "Next we will loop over all words in our list `words`. For each word, we check whether the dictionary already contains it. If so, we add 1 to its value. If not, we add the word to the dictionary and assign to it the value 1."
   ]
  },
  {
   "cell_type": "code",
   "execution_count": 24,
   "metadata": {},
   "outputs": [
    {
     "name": "stdout",
     "output_type": "stream",
     "text": [
      "{'Her': 1, 'comfortable': 1, 'I': 2, 'indulgent': 1, 'long': 1, 'home': 1, 'caresses;': 1, 'years': 1, 'woman': 1, 'was': 1, 'supplied': 1, 'little': 2, 'mother': 2, 'have': 1, 'to': 3, 'blessings': 1, 'early': 1, 'period.': 1, 'place': 1, 'from': 1, 'father;': 1, 'two': 1, 'unite': 1, 'Jane': 1, 'daughters': 1, 'for': 1, '1816': 1, 'youngest': 1, \"sister's\": 1, 'Emma': 2, 'short': 1, 'most': 1, 'seemed': 1, 'died': 1, 'lived': 1, 'who': 1, 'clever,': 1, 'in': 3, 'governess,': 1, 'been': 2, 'remembrance': 1, 'existence;': 1, 'too': 1, 'best': 1, 'her.': 1, 'of': 8, 'house': 1, 'vex': 1, 'his': 1, 'marriage,': 1, 'handsome,': 1, 'her': 4, 'had,': 1, 'distress': 1, 'happy': 1, 'twenty-one': 1, 'CHAPTER': 1, 'excellent': 1, 'as': 1, 'world': 1, 'Austen': 1, 'affection.': 1, 'rich,': 1, 'some': 1, 'disposition,': 1, 'very': 2, 'ago': 1, 'She': 1, 'consequence': 1, 'the': 4, 'VOLUME': 1, 'had': 4, 'with': 2, 'by': 2, 'affectionate,': 1, 'mistress': 1, 'Woodhouse,': 1, 'than': 1, 'an': 2, 'and': 5, 'or': 1, 'a': 4, 'indistinct': 1, 'more': 1, 'fallen': 1, 'nearly': 1}\n"
     ]
    }
   ],
   "source": [
    "for word in words:\n",
    "    if word in counts:\n",
    "        counts[word] = counts[word] + 1\n",
    "    else:\n",
    "        counts[word] = 1\n",
    "print(counts)"
   ]
  },
  {
   "cell_type": "markdown",
   "metadata": {},
   "source": [
    "If you don't remember anymore how dictionaries work, go back to the previous lesson and read the part about dictionaries once more.\n",
    "\n",
    "Now that our code is working, we can add it to a function. We define the function `counter` using the `def` keyword. It takes one argument (`list_to_search`)."
   ]
  },
  {
   "cell_type": "code",
   "execution_count": 25,
   "metadata": {
    "collapsed": true
   },
   "outputs": [],
   "source": [
    "def counter(list_to_search):                 \n",
    "    counts = {}                              \n",
    "    for word in list_to_search:              \n",
    "        if word in counts:                   \n",
    "            counts[word] = counts[word] + 1  \n",
    "        else:                                \n",
    "            counts[word] = 1                 \n",
    "    return counts                            "
   ]
  },
  {
   "cell_type": "markdown",
   "metadata": {},
   "source": [
    "Hopefully we are boring you, but let's go through this function step by step.\n",
    "\n",
    "1. We define a function using `def` and give it the name `counter` (line 1);\n",
    "2. This function takes a single argument `list_to_search` which is the list we want to search through (line 1);\n",
    "3. Next we define a variable `counts` which is an empty dictionary (line 2);\n",
    "4. We loop over all words in `list_to_search` (line 3);\n",
    "5. If the word is already in `counts`, we look up its current value and add 1 to it (line 4-5);\n",
    "6. If the word is not in `counts` (else clause), we add the word to the dictionary and assign it the value 1 (line 6-7);\n",
    "7. Return the result of counts (line 8);\n",
    "\n",
    "Let's try out our new function!"
   ]
  },
  {
   "cell_type": "code",
   "execution_count": 26,
   "metadata": {},
   "outputs": [
    {
     "name": "stdout",
     "output_type": "stream",
     "text": [
      "{'Her': 1, 'comfortable': 1, 'I': 2, 'indulgent': 1, 'long': 1, 'home': 1, 'caresses;': 1, 'years': 1, 'woman': 1, 'was': 1, 'supplied': 1, 'little': 2, 'mother': 2, 'have': 1, 'to': 3, 'blessings': 1, 'early': 1, 'period.': 1, 'place': 1, 'from': 1, 'father;': 1, 'two': 1, 'unite': 1, 'Jane': 1, 'daughters': 1, 'for': 1, '1816': 1, 'youngest': 1, \"sister's\": 1, 'Emma': 2, 'short': 1, 'most': 1, 'seemed': 1, 'died': 1, 'lived': 1, 'who': 1, 'clever,': 1, 'in': 3, 'governess,': 1, 'been': 2, 'remembrance': 1, 'existence;': 1, 'too': 1, 'best': 1, 'her.': 1, 'of': 8, 'house': 1, 'vex': 1, 'his': 1, 'marriage,': 1, 'handsome,': 1, 'her': 4, 'had,': 1, 'distress': 1, 'happy': 1, 'twenty-one': 1, 'CHAPTER': 1, 'excellent': 1, 'as': 1, 'world': 1, 'Austen': 1, 'affection.': 1, 'rich,': 1, 'some': 1, 'disposition,': 1, 'very': 2, 'ago': 1, 'She': 1, 'consequence': 1, 'the': 4, 'VOLUME': 1, 'had': 4, 'with': 2, 'by': 2, 'affectionate,': 1, 'mistress': 1, 'Woodhouse,': 1, 'than': 1, 'an': 2, 'and': 5, 'or': 1, 'a': 4, 'indistinct': 1, 'more': 1, 'fallen': 1, 'nearly': 1}\n"
     ]
    }
   ],
   "source": [
    "print(counter(words))"
   ]
  },
  {
   "cell_type": "markdown",
   "metadata": {},
   "source": [
    "#### Quiz!"
   ]
  },
  {
   "cell_type": "markdown",
   "metadata": {},
   "source": [
    "Let's put some of the stuff we learnt so far together. What we want you to do is to read into Python the file `data/austen-emma.txt`, convert it to a list of words and assign to the variable `emma_count` how often the word *Emma* occurs in the text."
   ]
  },
  {
   "cell_type": "code",
   "execution_count": 27,
   "metadata": {},
   "outputs": [
    {
     "name": "stdout",
     "output_type": "stream",
     "text": [
      "True\n"
     ]
    }
   ],
   "source": [
    "emma_count = 0\n",
    "# insert you code here\n",
    "DATA_PATH = './'\n",
    "infile = open(DATA_PATH + 'data/austen-emma.txt')\n",
    "text2 = infile.read()\n",
    "infile.close()\n",
    "word2=text2.split()\n",
    "emma_count = count_in_list('Emma',word2)\n",
    "\n",
    "# The following test should print True if your code is correct \n",
    "print(emma_count == 481)"
   ]
  },
  {
   "cell_type": "markdown",
   "metadata": {},
   "source": [
    "### A count function (take 2)"
   ]
  },
  {
   "cell_type": "markdown",
   "metadata": {},
   "source": [
    "Let's train our function writing skills a little more. We are going to write another counting function, this time using a slightly different strategy. Recall our function `count_in_list`. It takes as argument a list and the item we want to count in that list. It returns the number of times this item occurs in the list. If we call this function for each unique word in `words`, we obtain a list of frequencies, quite similar to the one we get from the function `counter`. What would happen if we just call the function `count_in_list` on each word in `words`? "
   ]
  },
  {
   "cell_type": "code",
   "execution_count": 28,
   "metadata": {},
   "outputs": [
    {
     "name": "stdout",
     "output_type": "stream",
     "text": [
      "Emma 2\n",
      "by 2\n",
      "Jane 1\n",
      "Austen 1\n",
      "1816 1\n",
      "VOLUME 1\n",
      "I 2\n",
      "CHAPTER 1\n",
      "I 2\n",
      "Emma 2\n",
      "Woodhouse, 1\n",
      "handsome, 1\n",
      "clever, 1\n",
      "and 5\n",
      "rich, 1\n",
      "with 2\n",
      "a 4\n",
      "comfortable 1\n",
      "home 1\n",
      "and 5\n",
      "happy 1\n",
      "disposition, 1\n",
      "seemed 1\n",
      "to 3\n",
      "unite 1\n",
      "some 1\n",
      "of 8\n",
      "the 4\n",
      "best 1\n",
      "blessings 1\n",
      "of 8\n",
      "existence; 1\n",
      "and 5\n",
      "had 4\n",
      "lived 1\n",
      "nearly 1\n",
      "twenty-one 1\n",
      "years 1\n",
      "in 3\n",
      "the 4\n",
      "world 1\n",
      "with 2\n",
      "very 2\n",
      "little 2\n",
      "to 3\n",
      "distress 1\n",
      "or 1\n",
      "vex 1\n",
      "her. 1\n",
      "She 1\n",
      "was 1\n",
      "the 4\n",
      "youngest 1\n",
      "of 8\n",
      "the 4\n",
      "two 1\n",
      "daughters 1\n",
      "of 8\n",
      "a 4\n",
      "most 1\n",
      "affectionate, 1\n",
      "indulgent 1\n",
      "father; 1\n",
      "and 5\n",
      "had, 1\n",
      "in 3\n",
      "consequence 1\n",
      "of 8\n",
      "her 4\n",
      "sister's 1\n",
      "marriage, 1\n",
      "been 2\n",
      "mistress 1\n",
      "of 8\n",
      "his 1\n",
      "house 1\n",
      "from 1\n",
      "a 4\n",
      "very 2\n",
      "early 1\n",
      "period. 1\n",
      "Her 1\n",
      "mother 2\n",
      "had 4\n",
      "died 1\n",
      "too 1\n",
      "long 1\n",
      "ago 1\n",
      "for 1\n",
      "her 4\n",
      "to 3\n",
      "have 1\n",
      "more 1\n",
      "than 1\n",
      "an 2\n",
      "indistinct 1\n",
      "remembrance 1\n",
      "of 8\n",
      "her 4\n",
      "caresses; 1\n",
      "and 5\n",
      "her 4\n",
      "place 1\n",
      "had 4\n",
      "been 2\n",
      "supplied 1\n",
      "by 2\n",
      "an 2\n",
      "excellent 1\n",
      "woman 1\n",
      "as 1\n",
      "governess, 1\n",
      "who 1\n",
      "had 4\n",
      "fallen 1\n",
      "little 2\n",
      "short 1\n",
      "of 8\n",
      "a 4\n",
      "mother 2\n",
      "in 3\n",
      "affection. 1\n"
     ]
    }
   ],
   "source": [
    "infile = open(DATA_PATH + 'data/austen-emma-excerpt.txt')\n",
    "text = infile.read()\n",
    "infile.close()\n",
    "words = text.split()\n",
    "\n",
    "for word in words:\n",
    "    print(word, count_in_list(word, words))"
   ]
  },
  {
   "cell_type": "markdown",
   "metadata": {},
   "source": [
    "As you can see, we obtain the frequency of each word token in `words`, where we would like to have it only for unique word forms. The challenge is thus to come up with a way to convert our list of words into a structure with solely unique words. For this Python provides a convenient data structure called `set`. It takes as argument some iterable (e.g. a list) and returns a new object containing only unique items:"
   ]
  },
  {
   "cell_type": "code",
   "execution_count": 29,
   "metadata": {},
   "outputs": [
    {
     "name": "stdout",
     "output_type": "stream",
     "text": [
      "{'c', 'a', 'b'}\n"
     ]
    }
   ],
   "source": [
    "x = ['a', 'a', 'b', 'b', 'c', 'c', 'c']\n",
    "unique_x = set(x)\n",
    "print(unique_x)"
   ]
  },
  {
   "cell_type": "markdown",
   "metadata": {},
   "source": [
    "Using `set` we can iterate over all unique words in our word list and print the corresponding frequency:"
   ]
  },
  {
   "cell_type": "code",
   "execution_count": 30,
   "metadata": {},
   "outputs": [
    {
     "name": "stdout",
     "output_type": "stream",
     "text": [
      "comfortable 1\n",
      "caresses; 1\n",
      "supplied 1\n",
      "little 2\n",
      "have 1\n",
      "to 3\n",
      "early 1\n",
      "place 1\n",
      "father; 1\n",
      "two 1\n",
      "Jane 1\n",
      "her 4\n",
      "for 1\n",
      "sister's 1\n",
      "most 1\n",
      "seemed 1\n",
      "home 1\n",
      "lived 1\n",
      "who 1\n",
      "remembrance 1\n",
      "too 1\n",
      "from 1\n",
      "his 1\n",
      "twenty-one 1\n",
      "as 1\n",
      "Austen 1\n",
      "some 1\n",
      "very 2\n",
      "been 2\n",
      "ago 1\n",
      "than 1\n",
      "She 1\n",
      "the 4\n",
      "VOLUME 1\n",
      "with 2\n",
      "by 2\n",
      "affectionate, 1\n",
      "happy 1\n",
      "an 2\n",
      "or 1\n",
      "a 4\n",
      "her. 1\n",
      "Her 1\n",
      "was 1\n",
      "I 2\n",
      "indulgent 1\n",
      "long 1\n",
      "indistinct 1\n",
      "woman 1\n",
      "mother 2\n",
      "excellent 1\n",
      "period. 1\n",
      "unite 1\n",
      "daughters 1\n",
      "more 1\n",
      "youngest 1\n",
      "Emma 2\n",
      "short 1\n",
      "clever, 1\n",
      "in 3\n",
      "governess, 1\n",
      "existence; 1\n",
      "best 1\n",
      "1816 1\n",
      "of 8\n",
      "house 1\n",
      "vex 1\n",
      "marriage, 1\n",
      "handsome, 1\n",
      "distress 1\n",
      "CHAPTER 1\n",
      "Woodhouse, 1\n",
      "world 1\n",
      "affection. 1\n",
      "rich, 1\n",
      "disposition, 1\n",
      "consequence 1\n",
      "nearly 1\n",
      "blessings 1\n",
      "had 4\n",
      "years 1\n",
      "mistress 1\n",
      "died 1\n",
      "had, 1\n",
      "and 5\n",
      "fallen 1\n"
     ]
    }
   ],
   "source": [
    "unique_words = set(words)\n",
    "for word in unique_words:\n",
    "    print(word, count_in_list(word, words))"
   ]
  },
  {
   "cell_type": "markdown",
   "metadata": {},
   "source": [
    "We wrap the lines of code above into the function `counter2`:"
   ]
  },
  {
   "cell_type": "code",
   "execution_count": 31,
   "metadata": {
    "collapsed": true
   },
   "outputs": [],
   "source": [
    "def counter2(list_to_search):\n",
    "    unique_words = set(list_to_search)\n",
    "    for word in unique_words:\n",
    "        print(word, count_in_list(word, list_to_search))"
   ]
  },
  {
   "cell_type": "markdown",
   "metadata": {},
   "source": [
    "A final check to see whether our function behaves correctly:"
   ]
  },
  {
   "cell_type": "code",
   "execution_count": 32,
   "metadata": {},
   "outputs": [
    {
     "name": "stdout",
     "output_type": "stream",
     "text": [
      "comfortable 1\n",
      "caresses; 1\n",
      "supplied 1\n",
      "little 2\n",
      "have 1\n",
      "to 3\n",
      "early 1\n",
      "place 1\n",
      "father; 1\n",
      "two 1\n",
      "Jane 1\n",
      "her 4\n",
      "for 1\n",
      "sister's 1\n",
      "most 1\n",
      "seemed 1\n",
      "home 1\n",
      "lived 1\n",
      "who 1\n",
      "remembrance 1\n",
      "too 1\n",
      "from 1\n",
      "his 1\n",
      "twenty-one 1\n",
      "as 1\n",
      "Austen 1\n",
      "some 1\n",
      "very 2\n",
      "been 2\n",
      "ago 1\n",
      "than 1\n",
      "She 1\n",
      "the 4\n",
      "VOLUME 1\n",
      "with 2\n",
      "by 2\n",
      "affectionate, 1\n",
      "happy 1\n",
      "an 2\n",
      "or 1\n",
      "a 4\n",
      "her. 1\n",
      "Her 1\n",
      "was 1\n",
      "I 2\n",
      "indulgent 1\n",
      "long 1\n",
      "indistinct 1\n",
      "woman 1\n",
      "mother 2\n",
      "excellent 1\n",
      "period. 1\n",
      "unite 1\n",
      "daughters 1\n",
      "more 1\n",
      "youngest 1\n",
      "Emma 2\n",
      "short 1\n",
      "clever, 1\n",
      "in 3\n",
      "governess, 1\n",
      "existence; 1\n",
      "best 1\n",
      "1816 1\n",
      "of 8\n",
      "house 1\n",
      "vex 1\n",
      "marriage, 1\n",
      "handsome, 1\n",
      "distress 1\n",
      "CHAPTER 1\n",
      "Woodhouse, 1\n",
      "world 1\n",
      "affection. 1\n",
      "rich, 1\n",
      "disposition, 1\n",
      "consequence 1\n",
      "nearly 1\n",
      "blessings 1\n",
      "had 4\n",
      "years 1\n",
      "mistress 1\n",
      "died 1\n",
      "had, 1\n",
      "and 5\n",
      "fallen 1\n"
     ]
    }
   ],
   "source": [
    "counter2(words)"
   ]
  },
  {
   "cell_type": "markdown",
   "metadata": {},
   "source": [
    "#### Quiz!"
   ]
  },
  {
   "cell_type": "markdown",
   "metadata": {},
   "source": [
    "We have written two functions `counter` and `counter2`, both used to count for each unique item in a particular list how often it occurs in that list. Can you come up with some pros and cons for each function? Why is `counter2` better than `counter` or why is `counter` better than `counter2`?"
   ]
  },
  {
   "cell_type": "markdown",
   "metadata": {},
   "source": [
    "¥*Double click this cell and write down your answer.*\n",
    "1.Can you come up with some pros and cons for each function?\n",
    "Counter's pros derive a dictionary. but It's cons that there is overlapped key's item.\n",
    "Counter2's pros do not overlapped key's item, but Derive print in function.\n",
    "\n",
    "2.Why is counter2 better than counter or why is counter better than counter2?\n",
    " It is because As also mentioned above,　duplicate values do not exist."
   ]
  },
  {
   "cell_type": "markdown",
   "metadata": {},
   "source": [
    "*Write your answer here* (double click me)"
   ]
  },
  {
   "cell_type": "markdown",
   "metadata": {},
   "source": [
    "## Text clean up"
   ]
  },
  {
   "cell_type": "markdown",
   "metadata": {},
   "source": [
    "In the previous section we wrote code to compute a frequency distribution of the words in a text stored on our computer. The function `split` is a quick and dirty way of splitting a string into a list of words. However, if we look through the frequency distributions, we notice quite an amount of noise. For instance, the pronoun *her* occurs 4 times, but we also find `her.` occurring 1 time and the capitalized `Her`, also 1 time. Of course we would like to add those counts to that of *her*. As it appears, the tokenization of our text using `split` is fast and simple, but it leaves us with noisy and incorrect frequency distributions. \n",
    "\n",
    "There are essentially two strategies to follow to correct our frequency distributions. The first is to come up with a better procedure of splitting our text into words. The second is to clean-up our text and pass this clean result to the convenient `split` function. For now we will follow the second path.\n",
    "\n",
    "Some words in our text are capitalized. To lowercase these words, Python provides the function `lower`. It operates on strings:"
   ]
  },
  {
   "cell_type": "code",
   "execution_count": 33,
   "metadata": {},
   "outputs": [
    {
     "name": "stdout",
     "output_type": "stream",
     "text": [
      "emma\n"
     ]
    }
   ],
   "source": [
    "x = 'Emma'\n",
    "x_lower = x.lower()\n",
    "print(x_lower)"
   ]
  },
  {
   "cell_type": "markdown",
   "metadata": {},
   "source": [
    "We can apply this function to our complete text to obtain a completely lowercased text, using:"
   ]
  },
  {
   "cell_type": "code",
   "execution_count": 34,
   "metadata": {},
   "outputs": [
    {
     "name": "stdout",
     "output_type": "stream",
     "text": [
      "emma by jane austen 1816\n",
      "\n",
      "volume i\n",
      "\n",
      "chapter i\n",
      "\n",
      "\n",
      "emma woodhouse, handsome, clever, and rich, with a comfortable home\n",
      "and happy disposition, seemed to unite some of the best blessings\n",
      "of existence; and had lived nearly twenty-one years in the world\n",
      "with very little to distress or vex her.\n",
      "\n",
      "she was the youngest of the two daughters of a most affectionate,\n",
      "indulgent father; and had, in consequence of her sister's marriage,\n",
      "been mistress of his house from a very early period.  her mother\n",
      "had died too long ago for her to have more than an indistinct\n",
      "remembrance of her caresses; and her place had been supplied\n",
      "by an excellent woman as governess, who had fallen little short\n",
      "of a mother in affection.\n"
     ]
    }
   ],
   "source": [
    "text_lower = text.lower()\n",
    "print(text_lower)"
   ]
  },
  {
   "cell_type": "markdown",
   "metadata": {},
   "source": [
    "This solves our problem with miscounting capitalized words, leaving us with the problem of punctuation. The function `replace` is just the function we're looking for. It takes two arguments: (1) the string we would like to replace and (2) the string we want to replace the first argument with:"
   ]
  },
  {
   "cell_type": "code",
   "execution_count": 35,
   "metadata": {},
   "outputs": [
    {
     "name": "stdout",
     "output_type": "stream",
     "text": [
      "Please remove all dots from this sentence\n"
     ]
    }
   ],
   "source": [
    "x = 'Please. remove. all. dots. from. this. sentence.'\n",
    "x = x.replace(\".\", \"\")\n",
    "print(x)"
   ]
  },
  {
   "cell_type": "markdown",
   "metadata": {},
   "source": [
    "Notice that we replace all dots with an empty string written as `\"\"`. "
   ]
  },
  {
   "cell_type": "markdown",
   "metadata": {},
   "source": [
    "#### Quiz!"
   ]
  },
  {
   "cell_type": "markdown",
   "metadata": {},
   "source": [
    "Write code that to lowercase and remove all commas in the following short text:"
   ]
  },
  {
   "cell_type": "code",
   "execution_count": 36,
   "metadata": {},
   "outputs": [
    {
     "name": "stdout",
     "output_type": "stream",
     "text": [
      "True\n"
     ]
    }
   ],
   "source": [
    "short_text = \"Commas, as it turns out, are so much overestimated.\"\n",
    "# insert your code here\n",
    "short_text=short_text.lower().replace(\",\",\"\")\n",
    "# The following test should print True if your code is correct \n",
    "print(short_text == \"commas as it turns out are so much overestimated.\")"
   ]
  },
  {
   "cell_type": "markdown",
   "metadata": {},
   "source": [
    "We would like to remove all punctuation from a text, not just dots and commas. We will write a function called `remove_punc` that removes all (simple) punctuation from a text. Again, there are many ways in which we can write this function. We will show you two of them. The first strategy is to repeatedly call `replace` on the same string each time replacing a different punctuation character with an empty string. "
   ]
  },
  {
   "cell_type": "code",
   "execution_count": 37,
   "metadata": {},
   "outputs": [
    {
     "name": "stdout",
     "output_type": "stream",
     "text": [
      "Commas as it turns out are overestimated Dots however even more so\n"
     ]
    }
   ],
   "source": [
    "def remove_punc(text):\n",
    "    punctuation = '!@#$%^&*()_-+={}[]:;\"\\'|<>,.?/~`'\n",
    "    for marker in punctuation:\n",
    "        text = text.replace(marker, \"\")\n",
    "    return text\n",
    "\n",
    "short_text = \"Commas, as it turns out, are overestimated. Dots, however, even more so!\"\n",
    "\n",
    "print(remove_punc(short_text))\n"
   ]
  },
  {
   "cell_type": "markdown",
   "metadata": {},
   "source": [
    "The second strategy we will follow is to show you that we can achieve the same result without using the built in function `replace`. Remember that a string consists of characters. We can loop over a string accessing each character in turn. Each time we find a punctuation marker we skip to the next character."
   ]
  },
  {
   "cell_type": "code",
   "execution_count": 48,
   "metadata": {},
   "outputs": [
    {
     "name": "stdout",
     "output_type": "stream",
     "text": [
      " Commas as it turns out are overestimated Dots however even more so\n"
     ]
    }
   ],
   "source": [
    "def remove_punc2(text):\n",
    "    punctuation = '!@#$%^&*()_-+={}[]:;\"\\'|<>,.?/~`'\n",
    "    clean_text = \" \"\n",
    "    for character in text:\n",
    "        if character not in punctuation:\n",
    "            clean_text += character\n",
    "    return clean_text\n",
    "\n",
    "short_text = \"Commas, as it turns out, are overestimated. Dots, however, even more so!\"\n",
    "\n",
    "print(remove_punc2(short_text))"
   ]
  },
  {
   "cell_type": "markdown",
   "metadata": {},
   "source": [
    "#### Quiz!"
   ]
  },
  {
   "cell_type": "markdown",
   "metadata": {},
   "source": [
    "1) Can you come up with any pros or cons for each of the two functions above?"
   ]
  },
  {
   "cell_type": "markdown",
   "metadata": {},
   "source": [
    "*Write your answer here* (double click me)\n",
    "yes \n",
    "Remove_punc's pros less code,but Remove_punc2's is long code."
   ]
  },
  {
   "cell_type": "markdown",
   "metadata": {},
   "source": [
    "2) Now it is time to put everything together. We want to write a function `clean_text` that takes as argument a text represented by string. The function should return this string with all punctuation removed and all characters lowercased."
   ]
  },
  {
   "cell_type": "code",
   "execution_count": 39,
   "metadata": {},
   "outputs": [
    {
     "name": "stdout",
     "output_type": "stream",
     "text": [
      "True\n"
     ]
    }
   ],
   "source": [
    "def clean_text(text):\n",
    "    # insert your code here\n",
    "    return remove_punc(text).lower()\n",
    "# The following test should print True if your code is correct \n",
    "short_text = \"Commas, as it turns out, are overestimated. Dots, however, even more so!\"\n",
    "print(clean_text(short_text) == \n",
    "      \"commas as it turns out are overestimated dots however even more so\")"
   ]
  },
  {
   "cell_type": "markdown",
   "metadata": {},
   "source": [
    "3) This last excercise puts everything together. We want you to open and read the file `data/austen-emma.txt` text once more, clean up the text and recompute the frequency distribution. Assign to `woodhouse_counts` the number of times the name *Woodhouse* occurs in the text."
   ]
  },
  {
   "cell_type": "code",
   "execution_count": 55,
   "metadata": {},
   "outputs": [
    {
     "name": "stdout",
     "output_type": "stream",
     "text": [
      "True\n"
     ]
    }
   ],
   "source": [
    "woodhouse_counts = 0\n",
    "# insert your code here\n",
    "DATA_PATH = './'\n",
    "infile = open(DATA_PATH + 'data/austen-emma.txt')\n",
    "text2 = infile.read()\n",
    "infile.close()\n",
    "text2=remove_punc2(text2)\n",
    "word2=text2.split()\n",
    "unique_words2 = set(word2)\n",
    "woodhouse_counts = count_in_list('Woodhouse',word2)\n",
    "print(woodhouse_counts ==263)"
   ]
  },
  {
   "cell_type": "markdown",
   "metadata": {},
   "source": [
    "## Writing results to a file"
   ]
  },
  {
   "cell_type": "markdown",
   "metadata": {},
   "source": [
    "We have accomplished a lot! You have learnt how to read files using Python from your computer, how to manipulate them, clean them up and compute a frequency distribution of the words in a text file. We will finish this lesson with explaining to you how to write your results to a file. We have already seen how to read a text from our disk. Writing to our disk is only slightly different. The following lines of code write a single sentence to the file `first-output.txt`."
   ]
  },
  {
   "cell_type": "code",
   "execution_count": 56,
   "metadata": {
    "collapsed": true
   },
   "outputs": [],
   "source": [
    "outfile = open('first-output.txt', mode='w')\n",
    "outfile.write('My first output.')\n",
    "outfile.close()"
   ]
  },
  {
   "cell_type": "markdown",
   "metadata": {},
   "source": [
    "Go ahead and open the file `first-output.txt` located in the folder where this notebook resides. As you can see it contains the line `My first output.`. To write something to a file we open, just as in the case of reading a file, a `TextIOWrapper` which can be seen as a connection to the file `first-output.txt`. The difference with opening a file for reading is the *mode* with which we open the connection. Here the mode says `w`, meaning \"open the file for writing\". To open a file for reading, we set the mode to `r`. However, since this is Python's default setting, we may omit it."
   ]
  },
  {
   "cell_type": "markdown",
   "metadata": {},
   "source": [
    "#### Quiz!"
   ]
  },
  {
   "cell_type": "markdown",
   "metadata": {},
   "source": [
    "In the final quiz of this lesson we will ask you to write the frequency distribution over the words in `data/austen-emma.txt` to the file `austen-frequency-distribution.txt`. We will give you some code to get you started"
   ]
  },
  {
   "cell_type": "code",
   "execution_count": 80,
   "metadata": {},
   "outputs": [
    {
     "name": "stdout",
     "output_type": "stream",
     "text": [
      "{'volubility', 'impertinently', 'sale', 'amount', 'seemingly', 'late', 'allies', 'moreover', 'pudding', 'crosser', 'packet', 'pleading', 'vagaries', 'honoured', 'guessed', 'paid', 'smallridge', 'inspired', 'boasted', 'engagementhis', 'her', 'talent', 'bit', 'labourers', 'virtue', 'discerned', 'engaging', 'insolence', 'makes', 'intent', 'efforts', 'janerepeated', 'italmost', 'longerbut', 'eightandthirty', 'dinnerparties', 'tolerable', 'highly', 'dearbut', 'further', 'establishment', 'down', 'living', 'exertion', 'badno', 'indeedoh', 'outa', 'deficiencybut', 'thoughtmr', 'captain', 'proof', 'gilberts', 'betrayed', 'whenlet', 'pressing', 'headthe', 'strictly', 'distinctionemma', 'daringly', 'pardon', 'announcing', 'sour', 'ejaculation', 'a', 'succeed', 'waste', 'seated', 'monthmerely', 'reminding', 'proceedings', 'pretended', 'pronounced', 'inadmissibility', 'diningroomand', 'robin', 'strawberries', 'success', 'sonbut', 'noticing', 'heavy', 'halfglass', 'toof', 'm', 'recurrences', 'towards', 'fits', 'doing', 'etc', 'knit', 'genteel', 'lateand', 'secure', 'greens', 'tempt', 'greatness', 'beginning', 'ridden', 'par', 'dead', 'resolved', 'copied', 'broke', 'discomposed', 'couplet', 'hint', 'appendages', 'confess', 'avenues', 'heavenswhat', 'force', 'gratitude', 'debasement', 'grievously', 'fathercertainly', 'holds', 'heargoing', 'scouted', 'gold', 'wholelengths', 'feebly', 'disagreeablea', 'wayjust', 'lineswill', 'may', 'harshly', 'selfcontroul', 'extentthe', 'daughterinlaw', 'capable', 'reviving', 'smithmiss', 'marking', 'exclaimed', 'arch', 'youno', 'bring', 'proud', 'had', 'staircase', 'arrear', 'girl', 'egg', 'absent', 'inseparably', 'frightened', 'undistinguishing', 'wife', 'ate', 'sudden', 'at', 'loud', 'thereabouts', 'vigorous', 'yesnoyes', 'expectation', 'makecannot', 'crowd', 'aspiredmiss', 'implanted', 'isabella', 'spencer', 'beneath', 'parts', 'visitors', 'acknowledge', 'terms', 'complimentand', 'illiberal', 'lessen', 'invalid', 'exclude', 'method', 'dance', 'meet', 'england', 'tacitly', 'seizedher', 'tradesman', 'admittedshe', 'dostalis', 'meant', 'batesit', 'tomorrowmr', 'eighteenit', 'companywhat', 'pools', 'collection', 'youforgive', 'emmawhat', 'write', 'buy', 'smoothshe', 'enjoyedbut', 'brightened', 'boy', 'joyous', 'uncommon', 'influenced', 'beenlong', 'fearshe', 'practising', 'grows', 'subjectnot', 'returni', 'quarrelling', 'clearer', 'merriment', 'animation', 'charadeif', 'childhoodand', 'resuming', 'successless', 'weary', 'inconstancy', 'regardless', 'begs', 'thinks', 'frank', 'protestation', 'ballrooms', 'unusual', 'laughed', 'ungrateful', 'neglect', 'transcribed', 'countries', 'lightened', 'firm', 'claim', 'changeable', 'mounted', 'violence', 'easterand', 'unsteadiness', 'randallsa', 'hoursmrs', 'unprepared', 'extracts', 'colours', 'momentbut', 'wordi', 'how', 'authorised', 'curiosity', 'settle', 'deafness', 'tax', 'opportune', 'shabby', 'worlda', 'injunction', 'securing', 'lain', 'subsequent', 'diet', 'stirring', 'certified', 'having', 'intimacy', 'husbandher', 'increase', 'daya', 'ofit', 'bearers', 'plea', 'took', 'issue', 'finds', 'ladya', 'quantity', 'disputing', 'believeexcuse', 'exemption', 'impede', 'stroke', 'stoop', 'patty', 'forgiven', 'wishesyour', 'applying', 'purchasing', 'doated', 'repetition', 'bodies', 'lossif', 'preparation', 'respective', 'buttons', 'prodigy', 'spoiled', 'kindhearted', 'edition', 'blameable', 'expressedi', 'againand', 'employments', 'fairfaxharriet', 'former', 'weddingdayand', 'arrangements', 'takes', 'engrossing', 'leaned', 'gratifications', 'lasted', 'enigmas', 'flew', 'interestingin', 'necessarily', 'colonel', 'gave', 'hungry', 'opportunities', 'pondering', 'camevery', 'cured', 'enters', 'principals', 'accents', 'obstacle', 'imperfection', 'stilton', 'curtains', 'chimney', 'blot', 'peopleand', 'remembering', 'woodhousewell', 'powerful', 'picturebut', 'wishes', 'entertained', 'behaving', 'actually', 'striking', 'convincingif', 'waythat', 'thingin', 'harrieta', 'cardtable', 'destiny', 'distruston', 'distasteful', 'failings', 'highest', 'bedroom', 'talkative', 'waded', 'enrich', 'steep', 'attentionand', 'out', 'needlessly', 'bevery', 'rousing', 'shamefulof', 'dryness', 'linenothing', 'soothe', 'prosingso', 'secondsand', 'repulsive', 'eyebrows', 'mile', 'steadier', 'patient', 'decorum', 'expressing', 'mortifying', 'faceher', 'weak', 'yesthat', 'grandmama', 'reappearance', 'shade', 'unsuspicious', 'dixon', 'sanguine', 'frequently', 'thanked', 'midday', 'finest', 'sauciness', 'soliloquy', 'candidates', 'sacrifices', 'offended', 'connect', 'hopeshe', 'welcomed', 'gruel', 'panic', 'itso', 'desperateshe', 'asunder', 'predominated', 'supply', 'amazingly', 'farmyou', 'utility', 'fault', 'length', 'delightemmas', 'suffer', 'darted', 'donwellyou', 'brighter', 'holdand', 'boys', 'worseplaying', 'isabellaexclaimed', 'eveningnow', 'stoppedemma', 'burn', 'appropriation', 'displaying', 'weston', 'hop', 's', 'nervous', 'friendship', 'henceforth', 'hoped', 'puff', 'seems', 'footstep', 'loudness', 'nearly', 'flourishing', 'wellif', 'teteatete', 'piquet', 'satisfiedlet', 'indubitable', 'sisterinlaw', 'commonly', 'complete', 'invalids', 'something', 'offenceyou', 'smilesmr', 'convincing', 'addresses', 'italian', 'alphabets', 'movement', 'defying', 'tender', 'bred', 'ornamented', 'buried', 'safety', 'westonit', 'quarterrobert', 'two', 'smile', 'maintainedor', 'steeper', 'windows', 'possiblebut', 'satisfactions', 'intimatethat', 'firmly', 'replied', 'hazarded', 'consistently', 'admirableexcellently', 'amounting', 'decree', 'wantedobserved', 'goddards', 'claimed', 'obscurity', 'inbetweens', 'opposed', 'dayeven', 'style', 'nowi', 'alland', 'wishedbut', 'faints', 'different', 'alwaysi', 'cases', 'youdeceived', 'recur', 'diverting', 'handsometoo', 'possibilities', 'sucklings', 'objectif', 'dissuaded', 'tranquillity', 'agitating', 'restlessness', 'excesses', 'marks', 'accordingly', 'press', 'tooi', 'manners', 'gradually', 'original', 'laneturning', 'wholelength', 'improvidently', 'elegantly', 'busiest', 'undertaken', 'delineated', 'ideas', 'kept', 'turnsmy', 'earth', 'drawn', 'draughts', 'haunted', 'allowable', 'borrow', 'esteem', 'healthand', 'nestled', 'month', 'confirm', 'youthis', 'felt', 'liberally', 'dull', 'turkeys', 'understanding', 'crowda', 'ofinferior', 'parthe', 'older', 'outward', 'happyand', 'hundreds', 'chance', 'likedbut', 'deep', 'sortare', 'prettybehaved', 'counter', 'persevering', 'already', 'alphabet', 'amazingi', 'stomacher', 'amusementmiss', 'overit', 'cherries', 'mindbut', 'lifedid', 'abominable', 'bitterly', 'route', 'compassionate', 'practise', 'leadi', 'tormenting', 'walkshad', 'horrible', 'blindness', 'way', 'dont', 'sphere', 'departed', 'embarrassed', 'worthies', 'expression', 'maid', 'presiding', 'scale', 'untainted', 'ideai', 'loneliness', 'schemed', 'shawlfor', 'surrounded', 'unbroken', 'significantlythere', 'ordinarily', 'fatherbut', 'untowardly', 'lacenow', 'brunswick', 'multiplicity', 'lock', 'scornful', 'dictated', 'pondered', 'acquainted', 'mistakes', 'oversalted', 'worlddid', 'licentiousness', 'harmony', 'reverie', 'vexations', 'doings', 'sufferers', 'secretly', 'cheer', 'quicker', 'augusta', 'ninth', 'gentlemans', 'bragge', 'upper', 'apologised', 'sparkling', 'companythe', 'whirling', 'morrow', 'verdure', 'size', 'carriageexcellent', 'presenting', 'westonswho', 'allonly', 'leaving', 'deriving', 'severity', 'disgusted', 'deny', 'docile', 'weighing', 'fat', 'v', 'apprehend', 'satisfactionhe', 'between', 'mr', 'mule', 'qualify', 'months', 'luxurious', 'cheek', 'ahead', 'flying', 'cared', 'interval', 'beforehand', 'requiring', 'regulate', 'energy', 'teaching', 'sheoh', 'alternative', 'repeat', 'confidant', 'selfdenial', 'shrinking', 'attentionshe', 'subordination', 'fatheranother', 'enquiring', 'beenevery', 'cherishing', 'amendment', 'hindquarter', 'recommended', 'pitcher', 'collectedly', 'strange', 'arises', 'observe', 'smoke', 'entered', 'observed', 'tongue', 'timeand', 'restrain', 'asking', 'fleshbut', 'chaperon', 'herselfvery', 'employing', 'musing', 'obtruding', 'restore', 'pupil', 'healthy', 'met', 'associate', 'charming', 'formal', 'marked', 'unreserve', 'token', 'provokingi', 'avoid', 'speed', 'uncles', 'fondly', 'daysmr', 'introductionof', 'strongand', 'solicited', 'badthough', 'eatablehautboys', 'knowledge', 'comfort', 'chat', 'dovery', 'centre', 'overboard', 'harrietdo', 'ribbon', 'waydelicious', 'shei', 'stock', 'felling', 'quicksighted', 'approaching', 'believing', 'unworthy', 'gingerbread', 'wording', 'in', 'no', 'beloved', 'mentioning', 'mightyou', 'persuaded', 'agoemma', 'best', 'townmrs', 'youhowhow', 'attentions', 'precedent', 'clock', 'soup', 'horrid', 'foreseeing', 'insult', 'stay', 'cheerlessness', 'elizabeth', 'together', 'addressesand', 'evasions', 'birthday', 'wasbut', 'hazard', 'saidmuch', 'affair', 'smilingso', 'deranged', 'considers', 'corn', 'fondling', 'permitted', 'topic', 'dispensed', 'clinging', 'slighting', 'perform', 'smaller', 'fear', 'nodded', 'bodyany', 'mannerthis', 'daughteri', 'wantedexactly', 'wanted', 'himhow', 'deceitespionage', 'believes', 'certainlyvery', 'began', 'western', 'emmaand', 'talkativenessamused', 'mustered', 'pulling', 'luckyour', 'suited', 'delightfully', 'inconsiderate', 'weddingcake', 'fortunatesuch', 'suppers', 'complimenter', 'criedand', 'waltz', 'worth', 'selina', 'drillsand', 'readyfurnished', 'gentlewoman', 'soundfor', 'shifts', 'caviller', 'locked', 'charactergeneral', 'from', 'riddles', 'comeatable', 'garricks', 'solicitation', 'copy', 'owned', 'hairdresser', 'ladies', 'person', 'bickerton', 'indeedharriet', 'vainly', 'sayjust', 'capabilities', 'oath', 'passant', 'selfwilled', 'assentdo', 'idlest', 'ceremonies', 'clever', 'extenuations', 'provided', 'receipt', 'reallywellbut', 'infatuation', 'behindmost', 'vain', 'glee', 'nervousness', 'exert', 'shut', 'officiating', 'except', 'results', 'eyeing', 'boasts', 'coxs', 'hawkinsgood', 'dealings', 'hesitatedshe', 'numberonly', 'beforeyou', 'mehow', 'reaching', 'fairycontaining', 'travelbut', 'songs', 'english', 'es', 'resentment', 'wantsa', 'inconvenienti', 'worldbut', 'threequarters', 'vacancies', 'cogitation', 'heretofore', 'rapid', 'rung', 'faith', 'roommiss', 'himi', 'tomorrowhalf', 'irrational', 'adequate', 'presides', 'eaten', 'coldly', 'manoeuvring', 'situated', 'recent', 'thatsaid', 'ensure', 'indisputable', 'directions', 'warmher', 'meditating', 'rate', 'row', 'shesupposing', 'sincerely', 'observing', 'surefor', 'vacant', 'everyday', 'attorney', 'iand', 'coughing', 'discontinuing', 'relative', 'singleminded', 'agreeing', 'resorting', 'convince', 'vexatious', 'behave', 'consenting', 'surprizes', 'glory', 'stylecandles', 'feasible', 'harrietit', 'messages', 'checked', 'everbut', 'illiterate', 'hand', 'concealing', 'subside', 'dream', 'to', 'beit', 'decide', 'hardships', 'march', 'obligingbut', 'hopelessa', 'underbred', 'observeoh', 'wanting', 'dye', 'expecting', 'for', 'try', 'acquiescence', 'extremelythought', 'penetrated', 'warmly', 'affections', 'addressing', 'obscurityand', 'worldcould', 'pleasedshe', 'draught', 'comprehending', 'civility', 'continual', 'busy', 'herhe', 'manit', 'suspicious', 'communication', 'likely', 'soothings', 'shoulders', 'unkind', 'sufferingshe', 'ableshe', 'encountered', 'endanger', 'laid', 'usefulness', 'appearing', 'noisy', 'concernsexpecting', 'peculiarity', 'but', 'hardened', 'whispers', 'moves', 'bateshe', 'promises', 'furniture', 'makeand', 'dupe', 'meal', 'overtaken', 'depression', 'he', 'upbut', 'capricious', 'reasonable', 'infinitely', 'motives', 'hernot', 'honestly', 'beyond', 'rub', 'compressed', 'sightand', 'figures', 'falls', 'effectually', 'falsehoods', 'engagednay', 'timid', 'drawingin', 'dated', 'oblige', 'vii', 'privation', 'constrained', 'door', 'contemplation', 'illwill', 'useful', 'calculated', 'afterwardsand', 'sending', 'amply', 'perplexities', 'tens', 'closing', 'moved', 'reading', 'itharriet', 'submitting', 'offer', 'respects', 'still', 'businessthat', 'leads', 'passagewere', 'sufferable', 'indecision', 'veryi', 'number', 'privileged', 'added', 'matteroffact', 'pantry', 'bella', 'struggle', 'accepted', 'mostly', 'behold', 'onlyi', 'performances', 'fatiguingand', 'loveevery', 'emmaquite', 'brought', 'elton', 'manbut', 'woundyour', 'indeedyou', 'anothers', 'agitated', 'welfare', 'address', 'friendrepeated', 'distaste', 'stop', 'deem', 'scholar', 'measure', 'wished', 'entangledi', 'yourselfto', 'irish', 'latter', 'ornaments', 'acquired', 'trembling', 'comprehended', 'goodhautboy', 'stream', 'carriagehorse', 'nothingyou', 'undesirable', 'did', 'glancesthe', 'seeand', 'attaching', 'yesverya', 'remembrance', 'retained', 'reprobating', 'injuries', 'resist', 'obligingfor', 'exerting', 'spread', 'becomes', 'front', 'determination', 'churchilli', 'looking', 'thingit', 'broad', 'blank', 'untouched', 'apply', 'fogs', 'activity', 'lay', 'forbade', 'hersone', 'meit', 'figuratively', 'profession', 'anxiety', 'submission', 'inconsiderable', 'channel', 'requesting', 'sweetness', 'forthi', 'forwards', 'breaks', 'meanwhile', 'muffin', 'dignities', 'smallest', 'twentyseven', 'permanent', 'happy', 'comfortably', 'floated', 'your', 'firstbut', 'unless', 'besttempered', 'phraseand', 'drawingup', 'disappointing', 'hughes', 'shock', 'sprucebeeroh', 'comparisonshe', 'objectionable', 'answeredand', 'latters', 'indeedwe', 'largeand', 'injure', 'viewsweet', 'ran', 'satisfactionit', 'finessing', 'animating', 'carrot', 'pretending', 'ofoh', 'outi', 'vehicle', 'want', 'hoodwinkd', 'drew', 'threeandtwentya', 'formed', 'fashion', 'devoted', 'cotton', 'foretelling', 'joint', 'hereafter', 'spruce', 'headache', 'discouragement', 'intimates', 'expense', 'evilbut', 'afraidbut', 'othersshe', 'retirement', 'mickleham', 'bustlefor', 'teased', 'selves', 'indicate', 'creature', 'indulgentespecially', 'sposo', 'congratulating', 'club', 'solitude', 'herselfrobert', 'wild', 'forty', 'retentive', 'guests', 'accompanied', 'fancywork', 'hundredbetter', 'pressingly', 'unmanageable', 'quickened', 'contemptuous', 'transaction', 'entire', 'sorryextremely', 'nextthe', 'appreciate', 'attempti', 'minds', 'backward', 'officer', 'figureand', 'didnobody', 'tedious', 'foundation', 'look', 'exhausted', 'openhearted', 'carriageone', 'cleverer', 'ventured', 'glass', 'unhappy', 'pure', 'taste', 'publicity', 'requires', 'waited', 'imaginist', 'weight', 'consideredresolvedand', 'passedaware', 'deposited', 'inconveniences', 'populous', 'defended', 'fortnights', 'findi', 'preventing', 'cause', 'musical', 'themselvesemma', 'tells', 'lawfully', 'fashionable', 'imparted', 'concerned', 'view', 'smiths', 'half', 'recantation', 'lurking', 'presentlyher', 'slope', 'pew', 'detaining', 'smilemuch', 'demurred', 'wise', 'decorated', 'instances', 'surprizedmr', 'surrounding', 'possession', 'selfdeceived', 'butler', 'eldest', 'gowhy', 'whispering', 'conjectureaye', 'knew', 'wishstay', 'hercost', 'suita', 'flattery', 'projects', 'alonesuch', 'upstart', 'lessons', 'miss', 'assist', 'destroy', 'campfever', 'aunts', 'confined', 'considerable', 'cares', 'seat', 'friend', 'persons', 'otherwiseimpossibleshe', 'ahshaking', 'thenshe', 'tittletattle', 'thinner', 'bad', 'travels', 'baronne', 'report', 'hitherto', 'saidi', 'fagged', 'observationhis', 'yoursand', 'fidgets', 'heavens', 'such', 'pour', 'imaginary', 'yesterdayharriet', 'inheritance', 'cheeks', 'charades', 'listener', 'corals', 'itbutwith', 'amusedmr', 'appeared', 'unfolded', 'stories', 'professedly', 'arrive', 'importantit', 'gloom', 'nothingnot', 'wright', 'displayed', 'incapable', 'resulted', 'penitence', 'life', 'addressed', 'dint', 'ungraciously', 'dissipated', 'grove', 'wasand', 'claims', 'escaping', 'discretion', 'occupy', 'both', 'abstained', 'attempted', 'manyperhaps', 'invariable', 'submissive', 'vision', 'afterwards', 'bestmy', 'honourable', 'nothingmakes', 'unfortunatelyin', 'trade', 'formhis', 'glowing', 'formation', 'according', 'watches', 'yours', 'herbut', 'has', 'wifeand', 'tooquite', 'sangand', 'handsa', 'boastful', 'harrietthat', 'landscapes', 'accustomed', 'presumed', 'are', 'existed', 'traits', 'repressed', 'doesfine', 'feelingsbut', 'prepossession', 'charmingly', 'condemn', 'compare', 'regarded', 'mindit', 'airedbut', 'rooms', 'end', 'hope', 'stable', 'game', 'styleand', 'picture', 'storm', 'grew', 'nightthere', 'delusion', 'impatient', 'commands', 'spleen', 'slave', 'quickly', 'nights', 'sothe', 'bountiful', 'disapprove', 'shakespeare', 'louder', 'ennui', 'alacrity', 'pointed', 'childrenthere', 'befriend', 'henceto', 'left', 'soninlaws', 'winter', 'briskly', 'courses', 'boot', 'owing', 'doubly', 'fathermr', 'disclaiming', 'meeting', 'continuedlike', 'housekeeping', 'deceiti', 'uncle', 'broiling', 'goodly', 'speaking', 'portraits', 'delightfulmiss', 'treesi', 'weatherabsolute', 'farming', 'lamp', 'origin', 'nourishing', 'weeksindescribable', 'chiefly', 'afforded', 'gratifiedthey', 'rainthis', 'masters', 'nods', 'distressed', 'designedly', 'emphasis', 'churchillat', 'inclined', 'somewhere', 'scatteredthe', 'whileand', 'shocking', 'entering', 'september', 'jane', 'dignified', 'secures', 'active', 'dinnertime', 'vanitiesno', 'competenceenough', 'longwas', 'projected', 'mouthi', 'chapters', 'fuss', 'disagreeable', 'lights', 'rheumatic', 'thanksthere', 'wishshe', 'nothingfor', 'pretty', 'calmness', 'justice', 'pencilthe', 'maintained', 'agrees', 'drawing', 'supplied', 'didto', 'continuance', 'lame', 'altogetherface', 'knightleycan', 'urbanity', 'ill', 'shameful', 'local', 'lettersexpress', 'selfconsequence', 'languid', 'beat', 'process', 'admit', 'postoffice', 'leading', 'air', 'nailed', 'unexceptionable', 'fence', 'visible', 'immediate', 'herselfso', 'list', 'ingratitude', 'aimed', 'lovers', 'disclaimed', 'mention', 'offendedhe', 'disappointedmuch', 'encouragementi', 'revolts', 'turnip', 'felicity', 'told', 'f', 'point', 'run', 'utter', 'moneyhe', 'spoken', 'anywhere', 'woodhouseyes', 'augmentation', 'characteristic', 'putting', 'planjohn', 'swell', 'effects', 'counsel', 'sanction', 'stray', 'uttered', 'intolerable', 'secrecy', 'downright', 'exchanging', 'previous', 'disadvantages', 'readier', 'indistinct', 'tottering', 'enable', 'fetch', 'selfthe', 'food', 'singular', 'mortifieddisappointed', 'george', 'supportwould', 'sittersby', 'knowmr', 'limits', 'assisted', 'animatedopen', 'letters', 'means', 'clothing', 'nearmiss', 'brothers', 'disapproved', 'saving', 'misfortune', 'alsofrank', 'concerts', 'vexed', 'intreat', 'repent', 'mortifications', 'stronger', 'associations', 'fatiguequick', 'solicitudes', 'let', 'accomplish', 'isi', 'complaints', 'benefited', 'presentshe', 'accident', 'granted', 'deathcould', 'urge', 'subjection', 'goodnessand', 'on', 'earnestly', 'throwing', 'sinking', 'herwish', 'comtesse', 'beforeand', 'modest', 'betray', 'add', 'puzzles', 'humiliation', 'dalmane', 'arminarm', 'versesto', 'hall', 'betternow', 'evident', 'fortuitous', 'jump', 'hour', 'portion', 'dreadfulwhat', 'building', 'fellowsad', 'reproaching', 'smells', 'ten', 'wretch', 'variation', 'fellowno', 'hesitations', 'tomorrowyou', 'variously', 'la', 'storyof', 'cloud', 'heedlessness', 'emmafortunate', 'underrated', 'urged', 'olive', 'worseemma', 'disserviceit', 'transcribing', 'doubted', 'throws', 'disappearance', 'naturaland', 'shortlyi', 'boarder', 'inspiriting', 'wholesome', 'commandyes', 'divide', 'illassorted', 'blamed', 'improvementa', 'lost', 'umbrella', 'delivered', 'intends', 'departure', 'servants', 'themonly', 'objected', 'height', 'scruples', 'towas', 'especially', 'nieces', 'arranged', 'resentfully', 'doors', 'arriving', 'perryhas', 'solace', 'complaisance', 'lip', 'bates', 'resolving', 'myselfthe', 'score', 'circular', 'porkjane', 'create', 'gravely', 'nieceentirely', 'assurance', 'inability', 'speaks', 'loverthe', 'often', 'sullenness', 'siri', 'exquisitestill', 'rid', 'goodtempered', 'certain', 'contradiction', 'examined', 'handsomenot', 'elseand', 'energetic', 'tupmans', 'along', 'housekeeper', 'wellwritten', 'magistrates', 'reproofs', 'againselfimportant', 'merest', 'resolve', 'considering', 'regards', 'waitand', 'commit', 'homei', 'resemble', 'unsuccessfully', 'restraints', 'model', 'graciousness', 'entitled', 'sweep', 'distress', 'parcels', 'harrietyour', 'enoughmy', 'crossed', 'senses', 'sought', 'unnoticed', 'poplin', 'wiltshire', 'restoration', 'doorelizabeth', 'incessant', 'dish', 'bars', 'confers', 'themhe', 'guessi', 'directed', 'misconduct', 'comes', 'cast', 'steaks', 'remainder', 'hardship', 'xi', 'uneasy', 'movements', 'impossiblenoharriet', 'body', 'performance', 'friendfor', 'relenting', 'blinder', 'absurdity', 'yesa', 'proposition', 'onemiss', 'used', 'courtesies', 'dressshow', 'companionably', 'disagreeableness', 'knowand', 'twos', 'attraction', 'surprize', 'indeedbut', 'signified', 'vicinity', 'intervals', 'ourselvesoh', 'meanbut', 'occasionor', 'delicacy', 'suspected', 'smoothness', 'specimen', 'ustake', 'punctuality', 'eleganceease', 'bright', 'guilt', 'arise', 'acquiesced', 'nearer', 'service', 'grandpapa', 'hang', 'morningroom', 'mutually', 'ungratefulwhat', 'backgammon', 'occurreddo', 'dusk', 'required', 'rave', 'disposed', 'reverse', 'obtainedwhich', 'supposes', 'stare', 'severe', 'dissolved', 'dispel', 'byeno', 'knowone', 'cautiously', 'revealed', 'northeast', 'as', 'supposed', 'reasons', 'judge', 'aye', 'shouldersand', 'goodness', 'quickest', 'enlarged', 'boiled', 'misbehave', 'enlivened', 'dog', 'prosings', 'innocently', 'describe', 'confuse', 'foresightespecially', 'teastayno', 'safely', 'austen', 'afterwardsas', 'restless', 'drove', 'voted', 'knownwe', 'liferequired', 'shivering', 'raising', 'blessed', 'sweetnesslatterly', 'lowest', 'concealmentemma', 'itthere', 'mourning', 'valued', 'strike', 'repaid', 'highburyto', 'queen', 'wordno', 'hither', 'indoors', 'howthey', 'grandeur', 'lovebut', 'benefit', 'breaking', 'exposed', 'saywhen', 'below', 'tis', 'engagedit', 'ceased', 'behindhand', 'interruptions', 'quarto', 'summon', 'expressly', 'fricassee', 'introduce', 'himand', 'sweet', 'leniently', 'obtained', 'believed', 'comforts', 'freshness', 'happylooking', 'pore', 'feebleness', 'consent', 'confiding', 'sufficientshe', 'tenderer', 'remark', 'god', 'storeroom', 'otherwhat', 'sensations', 'marriage', 'calm', 'travelled', 'eating', 'copying', 'placethey', 'dare', 'toneshe', 'hill', 'fiveandtwenty', 'fears', 'consciencestricken', 'him', 'random', 'farther', 'westonjudge', 'ceasing', 'amityhe', 'enhanced', 'everywherei', 'considerations', 'civilly', 'judges', 'thatas', 'encourager', 'you', 'narrow', 'mistake', 'carried', 'exact', 'countrythe', 'woodhouseand', 'existencenever', 'staircaseyou', 'queernesses', 'rubber', 'amazement', 'endeared', 'oddbut', 'herthat', 'disperse', 'fire', 'unbidden', 'sealed', 'broadway', 'fondness', 'nopray', 'unpardonably', 'mattingmy', 'credit', 'sleety', 'apt', 'earn', 'host', 'hartfieldwhich', 'again', 'possibly', 'assertion', 'comeso', 'histhey', 'consenthe', 'assailed', 'rightin', 'leisurei', 'build', 'withbut', 'flatteries', 'answer', 'urgebadhe', 'againfor', 'affirmative', 'stomach', 'unmixed', 'artist', 'greensward', 'enscombe', 'smiling', 'cardtables', 'herno', 'bonnet', 'halfway', 'convenient', 'cautiousness', 'disinclined', 'christmas', 'flocks', 'interior', 'weekly', 'cheerfuller', 'restoring', 'fondest', 'flirted', 'hung', 'considered', 'tarta', 'piece', 'unsuitable', 'teaa', 'small', 'belief', 'youbut', 'occasioned', 'punctually', 'seeat', 'disappointed', 'donwellhe', 'development', 'engage', 'scrape', 'custard', 'private', 'work', 'rain', 'sincere', 'charmedthere', 'gloves', 'contriving', 'provision', 'circumstancesfeelings', 'smithvery', 'advantages', 'fold', 'instrument', 'againyet', 'artlessly', 'footpath', 'apology', 'deaf', 'wine', 'ballroom', 'wholesomeness', 'smoothed', 'blooming', 'letterwritten', 'evermrs', 'estimation', 'pigeonpies', 'satisfactory', 'eventshe', 'mounts', 'dreamt', 'stimulate', 'janes', 'clean', 'madame', 'larkins', 'possessed', 'blind', 'practice', 'forget', 'ator', 'free', 'himselfhe', 'gentlemanlike', 'youso', 'fairfaxthen', 'momenti', 'dealing', 'cureher', 'indifferent', 'curled', 'right', 'thanking', 'vessel', 'perfectly', 'conversations', 'considerate', 'windsoroh', 'returningevery', 'sell', 'childrenjust', 'married', 'nobodys', 'opinions', 'praise', 'parishes', 'smallridges', 'honouri', 'class', 'practicable', 'doubt', 'honouring', 'suggestions', 'worlds', 'measures', 'id', 'excused', 'reasonings', 'appletart', 'foldingscreen', 'fields', 'dorking', 'unadorned', 'galaday', 'childhood', 'frown', 'operations', 'observedyou', 'jokeit', 'literary', 'own', 'going', 'methodicalbefore', 'subsistence', 'roasted', 'well', 'notexcept', 'enemy', 'footpace', 'doorand', 'simplicity', 'illdisposed', 'thriving', 'gallantry', 'abundantlybut', 'reanimation', 'suddenly', 'grave', 'whoeverwhatever', 'lies', 'peculiarly', 'bestjudging', 'easily', 'coddling', 'commonest', 'beenhard', 'giving', 'reckoning', 'weddingday', 'vault', 'cloth', 'felicities', 'preceded', 'ult', 'waitingand', 'troublesome', 'forcing', 'shaded', 'inquietudes', 'knives', 'count', 'anecdote', 'westons', 'womanjust', 'attachments', 'permission', 'emmacannot', 'hardly', 'country', 'protracted', 'oncesomething', 'observation', 'lecture', 'tidy', 'cooper', 'painful', 'appellation', 'combine', 'putoff', 'themselvesneither', 'rev', 'salary', 'tan', 'smileno', 'reassembled', 'forwarded', 'disparity', 'accept', 'appreciating', 'undertakes', 'compose', 'divined', 'infamous', 'ladys', 'dancingmiss', 'iwell', 'prejudiced', 'universally', 'tomorrow', 'disturbance', 'speakhis', 'sins', 'differencewhich', 'damps', 'hesitatingit', 'expected', 'handwritingemma', 'bailiff', 'objects', 'himhe', 'cure', 'roundly', 'reservei', 'exhibitions', 'ciphers', 'ascendingshe', 'timidityand', 'date', 'answernothing', 'exist', 'estimated', 'nephewsin', 'urgent', 'brilliancy', 'desirable', 'concern', 'administered', 'poorly', 'drain', 'presently', 'appeari', 'harrietwellandand', 'campbell', 'parent', 'invitation', 'distrust', 'trouble', 'sounded', 'discovery', 'ireland', 'sagacity', 'herand', 'proudest', 'encumbrance', 'undergoing', 'hot', 'surprizei', 'chancing', 'holding', 'teavisit', 'comparisons', 'interposition', 'verified', 'earlier', 'rencontre', 'taking', 'vainshe', 'goand', 'offencebut', 'valetudinarian', 'unmarried', 'slice', 'pop', 'climate', 'written', 'memory', 'york', 'appetite', 'whom', 'instigator', 'ah', 'humours', 'irksomeness', 'proportion', 'largest', 'yesterdaya', 'fall', 'womanly', 'doleful', 'ponds', 'waysbut', 'before', 'black', 'airs', 'lined', 'dressing', 'clerk', 'talks', 'lowly', 'testify', 'make', 'beheld', 'l', 'placeemma', 'gives', 'intently', 'sayingthose', 'patriae', 'misfortunewith', 'extreme', 'knightleythere', 'bebut', 'overseers', 'bringing', 'abroadhad', 'badly', 'suspension', 'me', 'homeyou', 'veils', 'grand', 'fatherhumphcan', 'congratulation', 'homefarm', 'dared', 'approved', 'after', 'subdued', 'donkey', 'curse', 'pollards', 'rejected', 'this', 'forfeit', 'extinction', 'shadowboth', 'last', 'inflicting', 'liking', 'entreated', 'wanderbut', 'itthe', 'familiar', 'attacked', 'petticoats', 'fifty', 'unfortunate', 'undervalued', 'prudence', 'strangest', 'sympathy', 'yesmr', 'bids', 'drawingroom', 'observant', 'better', 'thisa', 'nine', 'banished', 'professed', 'butlers', 'brotherly', 'universal', 'creatureyou', 'accepting', 'speech', 'reallyif', 'ideaand', 'sooh', 'sweetly', 'theirshow', 'allprice', 'stays', 'nighthowever', 'allnot', 'circles', 'randalls', 'money', 'spare', 'equalled', 'minutes', 'wingfields', 'goodhumour', 'lived', 'yesrather', 'occupiedshe', 'submit', 'wordbut', 'doubtful', 'extraordinary', 'selfsatisfied', 'imaginedthat', 'drinking', 'refuseaye', 'pervert', 'occurs', 'intelligence', 'sometimes', 'goldsmith', 'freak', 'within', 'illnesses', 'professions', 'twisted', 'agitatedvery', 'swelling', 'hartfields', 'denotes', 'companions', 'grieve', 'convinced', 'excite', 'thrive', 'helpless', 'mindto', 'estate', 'unwelcome', 'shrubberies', 'recommend', 'basket', 'single', 'time', 'visitperfect', 'tires', 'himselfcould', 'tenderhearted', 'charges', 'warfare', 'happiesti', 'prized', 'their', 'concluding', 'flowers', 'named', 'surprising', 'sorethroati', 'moral', 'church', 'symptoms', 'seejust', 'quarrelsome', 'advised', 'unbleached', 'trifle', 'flirtation', 'note', 'equal', 'menot', 'mealshe', 'gang', 'ceremonious', 'keenly', 'repetitions', 'unconscious', 'relapsing', 'partake', 'deficiency', 'generous', 'strawberrybedsthe', 'proper', 'flight', 'abhorred', 'itexactly', 'induced', 'unconcerned', 'predict', 'atmosphere', 'gifted', 'resources', 'profitable', 'requested', 'harrietthese', 'goodthere', 'attempts', 'prolong', 'internal', 'dayshocking', 'loser', 'dangeryou', 'sentiments', 'frankgo', 'fill', 'depends', 'inexpressibly', 'spoil', 'musician', 'respectably', 'otherthe', 'beforei', 'interesting', 'endeavoured', 'themrather', 'line', 'richmond', 'consequence', 'benevolent', 'discharged', 'secondary', 'laughedi', 'currants', 'forwarding', 'drown', 'requisiteharriet', 'spurn', 'artifice', 'collecting', 'readily', 'iti', 'kitchenoh', 'forbid', 'goodbut', 'horrorstruck', 'frequent', 'wants', 'cook', 'impudence', 'opening', 'papers', 'harrietthey', 'immense', 'monday', 'instance', 'liberty', 'headed', 'incline', 'indelicate', 'unsuspected', 'lighter', 'motive', 'enquired', 'saw', 'promoted', 'uneasiness', 'allhe', 'recited', 'warm', 'herquickness', 'eternal', 'sick', 'dined', 'lifeand', 'exultation', 'talkingstrawberries', 'kingdom', 'youmrs', 'prefacewe', 'indescribable', 'nature', 'largesized', 'adviser', 'teach', 'eight', 'awoke', 'all', 'avowed', 'wordmore', 'shrunk', 'grownup', 'bodyand', 'naivete', 'baked', 'joined', 'forebodings', 'bulky', 'raise', 'prospects', 'terrors', 'aladdins', 'advocate', 'eyeimmediately', 'three', 'league', 'account', 'matches', 'herif', 'effect', 'aware', 'complains', 'sight', 'admiring', 'ends', 'secrets', 'stopping', 'behaviour', 'passionately', 'gone', 'county', 'paternal', 'smilingbut', 'avail', 'thati', 'jokes', 'thinkthe', 'occupation', 'any', 'foreboded', 'mill', 'direful', 'desires', 'views', 'disagreements', 'belovedwhich', 'churchwardens', 'dejection', 'sensiblemuch', 'enter', 'amity', 'least', 'forced', 'nonsenses', 'jealousy', 'cockade', 'muchit', 'poultryyards', 'collect', 'wallises', 'passyou', 'defeat', 'complacency', 'power', 'sweetcake', 'chattering', 'westonhe', 'knightleywhat', 'simple', 'pains', 'sly', 'madam', 'glowto', 'reurgedshe', 'were', 'shod', 'donwellthere', 'duty', 'news', 'notch', 'against', 'hourly', 'acceptance', 'scissors', 'contend', 'watched', 'take', 'favour', 'temper', 'sort', 'groundless', 'itmr', 'situation', 'pink', 'acknowledged', 'seeing', 'failed', 'acting', 'meets', 'desire', 'zigzags', 'notions', 'knownodding', 'goodshe', 'ourselvesbut', 'owner', 'disclosure', 'blushingi', 'humanity', 'wondered', 'if', 'wan', 'starting', 'hetty', 'woodhousewhat', 'composure', 'confirmed', 'correcti', 'exulting', 'gratified', 'unobjectionable', 'anticipated', 'probablya', 'contrition', 'lookout', 'unfeignedly', 'verbal', 'sirbut', 'passes', 'yeswhat', 'literature', 'encourage', 'wilfully', 'consideration', 'sharer', 'covered', 'extensive', 'affectedly', 'borrowed', 'chusebut', 'thinking', 'ordered', 'languish', 'sirbless', 'possible', 'plentiful', 'dr', 'precaution', 'indulgent', 'eat', 'sorryto', 'key', 'sharing', 'long', 'greatcoat', 'consents', 'be', 'dissatisfaction', 'away', 'housethe', 'girls', 'milmans', 'speck', 'subscribe', 'december', 'invaluable', 'embrocation', 'desirablewhat', 'exceeds', 'brightest', 'select', 'sequel', 'rationality', 'upso', 'underthe', 'wellmeaning', 'halfboot', 'schemes', 'carry', 'himselfno', 'unfriendly', 'oddtempered', 'tongues', 'bragges', 'harbour', 'otwaysnot', 'quarrelled', 'day', 'manage', 'obliging', 'pork', 'confession', 'appear', 'tolerate', 'move', 'byei', 'quitted', 'bodys', 'itthis', 'washow', 'assert', 'skill', 'nash', 'vocal', 'brain', '7th', 'draws', 'merits', 'pursued', 'ballswas', 'improprietyit', 'philippics', 'company', 'occur', 'alluding', 'destind', 'pillars', 'awayhe', 'affable', 'insipid', 'haunting', 'people', 'darting', 'answering', 'moving', 'sympathiser', 'prevent', 'bedtime', 'plainbut', 'preferenceand', 'dusty', 'waits', 'ostensible', 'errs', 'gentility', 'windsor', 'kingdoms', 'patriotism', 'jealous', 'clerks', 'rude', 'perforce', 'ithe', 'eveningparties', 'knows', 'puppy', 'earnestness', 'wallis', 'houseand', 'deeper', 'land', 'itself', 'arrangedsometimes', 'pale', 'shewn', 'unwillingness', 'letterboy', 'possibility', 'doori', 'marriages', 'equivocation', 'exclusively', 'unreserved', 'popular', 'satisfied', 'perhaps', 'graver', 'subduedand', 'prolonged', 'vacation', 'introduces', 'gladness', 'usenobody', 'fish', 'lightfirst', 'like', 'indignation', 'message', 'glimpse', 'informs', 'contrivances', 'death', 'cordially', 'cheering', 'descriptionso', 'thing', 'apparatus', 'sevenandtwenty', 'belong', 'surviving', 'car', 'overrating', 'usher', 'slept', 'somebody', 'deliberately', 'south', 'aimable', 'varied', 'valuable', 'withdrawn', 'agree', 'beavers', 'didwhile', 'dropt', 'eighthbut', 'remote', 'mad', 'mind', 'allowed', 'openheartedness', 'conveniently', 'escaped', 'sincerity', 'overpowered', 'walked', 'alphabetically', 'million', 'beand', 'mrs', 'acquittal', 'itvery', 'bearing', 'retrospect', 'brownssmiles', 'playful', 'assure', 'petticoat', 'awake', 'quietly', 'broadlyshe', 'swept', 'heryou', 'fishponds', 'hisit', 'endeavours', 'easy', 'ant', 'chambers', 'isabellas', 'irritable', 'superadded', 'illtimed', 'once', 'daybut', 'robert', 'youas', 'conjecturing', 'steady', 'cope', 'bearer', 'beings', 'described', 'trees', 'unselfish', 'we', 'selfishness', 'entreaties', 'apprehensive', 'income', 'repeatedly', 'sickness', 'knightleyrobert', 'embodied', 'stupid', 'indeedshe', 'thirdrate', 'mine', 'carefully', 'notis', 'insidious', 'river', 'concealed', 'familysomething', 'advanced', 'aggrandise', 'whence', 'elsethere', 'gipsy', 'selfapprobation', 'hardy', 'stands', 'erection', 'explore', 'uninterruptedly', 'accession', 'clothes', 'vanity', 'perhapswhen', 'thwarted', 'knightleywere', 'inherits', 'appeal', 'infectious', 'conveying', 'tosses', 'contrivance', 'herselfbut', 'thingand', 'performers', 'suspecting', 'willingly', 'reproof', 'heavyexcept', 'meditated', 'friendwith', 'serle', 'cramp', 'heris', 'hazle', 'twentieth', 'concert', 'friendly', 'perception', 'morning', 'apothecary', 'congratulated', 'dearly', 'unexamined', 'kindest', 'effusion', 'generosity', 'walks', 'harriet', 'saidher', 'dining', 'chilblains', 'sails', 'doubled', 'unbecoming', 'himselfwas', 'intended', 'younodding', 'tall', 'graciously', 'situationi', 'wish', 'confinement', 'dreaming', 'approves', 'extravagant', 'repentance', 'daughters', 'transformationmust', 'writing', 'see', 'dies', 'safelyand', 'seventeen', 'womans', 'collections', 'warmhearted', 'entertainingly', 'suchand', 'parted', 'happiness', 'throw', 'partnerthe', 'outweigh', 'demurs', 'wear', 'mouth', 'not', 'enjoyed', 'bye', 'knighterrantry', 'province', 'peculiarities', 'dancedfor', 'deemed', 'measles', 'eltonshere', 'wealth', 'knightleyyour', 'stared', 'figurepieces', 'sickly', 'byi', 'proportions', 'ford', 'grievous', 'compliment', 'youlet', 'notice', 'precise', 'justevery', 'overpowering', 'thankfulness', 'hotpressed', 'endured', 'infinity', 'antagonist', 'emmanothing', 'delegating', 'hymens', 'youif', 'confused', 'unmodulated', 'sweettempered', 'nicely', 'administer', 'christmasthough', 'melodies', 'bare', 'officedoor', 'rows', 'mediocre', 'stablesi', 'headah', 'coast', 'thiswhat', 'injury', 'blue', 'timea', 'plan', 'turning', 'comemuch', 'portfolio', 'fancy', 'connexion', 'seriously', 'devotion', 'fortyeight', 'contract', 'gaiety', 'inducement', 'ii', 'imputed', 'occurred', 'placing', 'jeffereysclara', 'awkwardness', 'rejoicing', 'forgets', 'tautology', 'source', 'linguist', 'itelegance', 'cards', 'palpable', 'extend', 'return', 'thankful', 'excessive', 'mount', 'awkwardnesses', 'glibly', 'kite', 'keeping', 'martins', 'abused', 'frost', 'hurryoh', 'couple', 'noticeyou', 'reflection', 'points', 'past', 'deplorable', 'lamentations', 'accidental', 'indelicacy', 'resemblance', 'violent', 'flakes', 'or', 'ahwellto', 'pencil', 'affectionsatisfied', 'harmless', 'marryyou', 'pictures', 'awayand', 'alliance', 'glow', 'finished', 'throwni', 'destroyed', 'acquaintance', 'conduce', 'them', 'dispiriting', 'mansion', 'archly', 'father', 'bateses', 'eighteen', 'rich', 'alleviations', 'scorned', 'victims', 'chuses', 'walk', 'younghe', 'donwellvery', 'unmarked', 'handwriting', 'uneasinessi', 'quitei', 'approvesomething', 'colder', 'listen', 'accounted', 'failing', 'acknowledging', 'calculate', 'deepest', 'probablestill', 'mix', 'hateful', 'unceremoniousness', 'driving', 'otherwise', 'allay', 'playing', 'scotland', 'heightened', 'committed', 'particularsbut', 'improved', 'wisei', 'confirming', 'debased', 'enjoying', 'anotherhow', 'engrosses', 'sent', 'happyit', 'eggs', 'idea', 'sources', 'hurry', 'remembered', 'inattentive', 'advisable', 'suspiciously', 'undoubtedly', 'drawers', 'wit', 'wouldbe', 'inclinations', 'truei', 'gates', 'shower', 'windowsi', 'fortunethat', 'folliesher', 'therethat', 'dashed', 'campbellsthe', 'sleeping', 'himwould', 'suggestion', 'darker', 'plain', 'despair', 'rivet', 'goosethe', 'suckling', 'fordsemma', 'thirteen', 'barnes', 'batesi', 'tempered', 'spend', 'leaning', 'mirth', 'candles', 'far', 'harp', 'absurdities', 'doubtputting', 'apart', 'writer', 'herself', 'mark', 'fetching', 'useable', 'giveit', 'mortified', 'misjudgment', 'natured', 'here', 'inferior', 'intentions', 'imprudence', 'gardens', 'againbut', 'modesty', 'respectful', 'inelegance', 'waxcandles', 'inquire', 'insulting', 'neglecting', 'significantly', 'protested', 'intimatebecause', 'love', 'october', 'dubious', 'elms', 'preached', 'incongruousor', 'latelyi', 'itat', 'attract', 'fainted', 'cooled', 'pales', 'goose', 'harrietthere', 'paradea', 'inconvenience', 'apologise', 'principles', 'sprucebeer', 'advantageous', 'clayton', 'surmises', 'baskets', 'lookdid', 'feedingto', 'residing', 'partyhis', 'teteatetethey', 'superiority', 'bench', 'impelled', 'inspire', 'rued', 'twelvemonth', 'appointments', 'seats', 'indefatigable', 'environs', 'mentioned', 'forerunner', 'oxford', 'stranger', 'wainscot', 'allusions', 'merely', 'partiality', 'gentlemanfarmer', 'tea', 'knightleyi', 'meabsurd', 'party', 'en', 'removed', 'concernedwell', 'grievance', 'saves', 'exchange', 'brotherinlaws', 'survey', 'isabellashe', 'kindled', 'carolinesuch', 'absorbing', 'differentno', 'meritedthe', 'either', 'mei', 'purple', 'describedit', 'forwardcame', 'farthest', 'dispose', 'utmost', 'ours', 'herselfin', 'round', 'happens', 'caring', 'deedily', 'shape', 'judicious', 'strong', 'conjecture', 'espalier', 'snow', 'farmers', 'sowhether', 'couldhow', 'trembled', 'janethere', 'changing', 'elegance', 'shook', 'smithmessage', 'denote', 'artlessness', 'detach', 'eligibility', 'proprieties', 'imagining', 'branch', 'moderate', 'naming', 'shawl', 'remonstrated', 'possiblei', 'indeedfrom', 'secured', 'inconsiderately', 'campbells', 'garters', 'inference', 'triumphand', 'honour', 'son', 'puddle', 'unfeigned', 'window', 'accumulations', 'conjugal', 'refusing', 'eitherwhen', 'questionable', 'advantage', 'agriculture', 'guileless', 'contributing', 'fanciful', 'trophies', 'regularly', 'forbut', 'sketch', 'wellonly', 'nonone', 'offices', 'youto', 'meyes', 'sleepless', 'chief', 'rode', 'smiled', 'afternoonbut', 'encouraged', 'relate', 'neatly', 'packs', 'wheat', 'ideajane', 'finishing', 'fix', 'diffuse', 'contented', 'creatureand', 'behaved', 'might', 'twilight', 'unable', 'excessivelywhich', 'looksbeautiful', 'bilious', 'perhapsdo', 'clover', 'congratulatedready', 'dying', 'ask', 'feelnot', 'monarch', 'unexpected', 'unattended', 'error', 'broadwoods', 'yesentirely', 'planning', 'familyand', 'guess', 'doyou', 'abbeyoh', 'propose', 'earlierit', 'commendation', 'defined', 'sash', 'dinner', 'situations', 'commended', 'selfdenying', 'puzzled', 'hastily', 'diffidence', 'murmurs', 'submitted', 'taylorthat', 'sunday', 'gownhow', 'scepticism', 'stain', 'appledumpling', 'prologue', 'novelties', 'hid', 'completely', 'say', 'honesty', 'knightleywho', 'menwhat', 'gravity', 'readyand', 'exploring', 'wasted', 'range', 'wonders', 'knightleyand', 'protecting', 'touched', 'itwheres', 'clownish', 'rapturous', 'cabinets', 'confine', 'powers', 'because', 'durableindeed', 'studied', 'fright', 'infinite', 'fortitude', 'sweepgate', 'admired', 'security', 'uncertaintyat', 'duped', 'feverish', 'birmingham', 'guide', 'approval', 'enemies', 'unfortunately', 'concession', 'occupied', 'avoided', 'scarlet', 'tenderness', 'irksome', 'watch', 'windy', 'king', 'communicated', 'nephews', 'enoughto', 'indispensable', 'allowance', 'charmingone', 'old', 'lace', 'illusage', 'strengthened', 'convenience', 'alliances', 'pleasures', 'catching', 'emmatell', 'arm', 'kindand', 'favouritealways', 'us', 'treasures', 'yesterdays', 'witnessed', 'reluctance', 'dews', 'muslins', 'oppressed', 'springbut', 'orchard', 'despairand', 'grandmamas', 'equally', 'sixteen', 'employed', 'preserve', 'rapidity', 'grateful', 'urging', 'shrubberyin', 'arrowroot', 'enliven', 'alli', 'scenes', 'coldest', 'woman', 'minute', 'handle', 'attach', 'unostentatious', 'preparations', 'spirited', 'rudebut', 'articulate', 'enchanted', 'maternal', 'herselfwho', 'luckyfor', 'sanguinely', 'consented', 'waters', 'failure', 'youoftener', 'abhor', 'youngest', 'refer', 'other', 'subject', 'pianoforteand', 'beautifulthere', 'monthsto', 'promising', 'moment', 'unequalled', 'instantly', 'weddings', 'reached', 'janedo', 'feel', 'attacking', 'agreeably', 'smilingand', 'begin', 'quietness', 'brings', 'madbut', 'wednesday', 'irresistiblebeyond', 'gilbert', 'barouchelandau', 'handsomest', 'delightful', 'suddenher', 'stood', 'compassion', 'indulging', 'poignant', 'pleasanterthey', 'covert', 'hartfieldno', 'summons', 'convivial', 'necessary', 'awe', 'clearing', 'wantconsideration', 'methat', 'unequivocally', 'rideyeshe', 'unrequited', 'smithsuch', 'proves', 'himassured', 'eyelashes', 'airing', 'remember', 'exteriors', 'reputation', 'letter', 'indeedthat', 'errands', 'arrow', 'knightleyor', 'finis', 'unnecessary', 'slumbering', 'w', 'unsettled', 'simpleton', 'legal', 'texts', 'accord', 'herhave', 'hired', 'hints', 'trusted', 'gladquite', 'corrected', 'smooth', 'bakers', 'hurried', 'allyou', 'sneering', 'slavery', 'likeness', 'swisserland', 'encouraging', 'does', 'medicine', 'coloured', 'disagree', 'pleasebut', 'knowhad', 'satand', 'loudly', 'treatmentand', 'dissipation', 'retain', 'reserve', 'dowe', 'inspection', 'dobut', 'fool', 'abbey', 'variations', 'subjectshe', 'attributing', 'remonstrances', 'venice', 'voices', 'event', 'extremely', 'beforein', 'twentyone', 'punishment', 'genuine', 'temptations', 'serve', 'forfeited', 'andindulging', 'newsand', 'weymouth', 'himit', 'heiress', 'hundred', 'uswe', 'lifeat', 'unfrequently', 'meditations', 'hastening', 'neptune', 'daughterhe', 'mothers', 'knock', 'selfish', 'quarrel', 'hartfieldat', 'bounds', 'donwellsome', 'desperately', 'store', 'troublewhenever', 'similarity', 'disinclination', 'outstepped', 'necessaryi', 'assistance', 'houseroom', 'rendered', 'tasteat', 'averted', 'lists', 'haunts', 'rambling', 'intentionally', 'amuse', 'indeedsuch', 'deserving', 'matrimony', 'deceptions', 'suits', 'perhapsand', 'embarrassment', 'undertaking', 'redeem', 'liveliest', 'composition', 'flesh', 'imagined', 'nobility', 'biscuits', 'memorandums', 'saddle', 'waltzes', 'offered', 'appointed', 'coachmen', 'pushed', 'materially', 'alwaysbut', 'disgusting', 'precedes', 'holyhead', 'braithwaites', 'exchangeyou', 'congratulatory', 'partially', 'wondering', 'sea', 'greatest', 'influenza', 'consulting', 'unpolished', 'marryingthe', 'deficiencies', 'alteration', 'genial', 'afford', 'literally', 'balls', 'foppery', 'inconvenient', 'ceaseless', 'woeful', 'themshe', 'sports', 'herselfyou', 'public', 'nearest', 'times', 'specious', 'heartand', 'fatal', 'attentive', 'dinnervisiting', 'debt', 'harrieti', 'spot', 'experienced', 'itnobody', 'misfortunes', 'bid', 'goodhearted', 'obtaining', 'heri', 'aggression', 'proclaimed', 'relief', 'herwilliam', 'happier', 'wickedness', 'noand', 'around', 'ever', 'result', 'witnessing', 'perpetual', 'heal', 'induce', 'individual', 'methis', 'talker', 'derived', 'folly', 'contained', 'exceedingly', 'waiting', 'appletarts', 'stealth', 'tonewhat', 'briefly', 'instantaneous', 'sightoh', 'onwhat', 'remaining', 'cheese', 'gifts', 'variety', 'forgiving', 'bend', 'privy', 'emmaits', 'tie', 'harrietsabout', 'rule', 'weeks', 'running', 'orders', 'seconded', 'bias', 'smiles', 'stoops', 'insisted', 'eltonthis', 'vent', 'hedge', 'herhow', 'baking', 'batesesi', 'criedvery', 'commanded', 'patroness', 'fourandtwenty', 'regained', 'witbut', 'agitation', 'candour', 'importation', 'conciliatingi', 'unsafe', 'hum', 'bewitches', 'admires', 'especial', 'illand', 'ignorant', 'inquiring', 'oncehow', 'lingering', 'anticipation', 'taylor', 'thoughtshe', 'comprehend', 'observingto', 'assume', 'soi', 'misspent', 'representing', 'hows', 'thingextremely', 'herthe', 'touching', 'lastmy', 'sense', 'bettergrown', 'openness', 'forms', 'apprehending', 'objectbut', 'hence', 'divested', 'reinstate', 'seeone', 'herefor', 'daughtersi', 'saturday', 'likebut', 'clemency', 'conveniences', 'placeand', 'cordial', 'glancing', 'himselfharriet', 'kings', 'indulged', 'market', 'xvii', 'extenuation', 'propriety', 'expenses', 'signify', 'circlebut', 'emotions', 'difficult', 'enjoyable', 'dooroh', 'fails', 'dialogues', 'flowed', 'lonely', 'awkward', 'churchills', 'absenting', 'risemy', 'inviting', 'information', 'heres', 'agewhat', 'hay', 'supplanted', 'blessings', 'degrading', 'endeavouring', 'infant', 'settled', 'existenceif', 'threatened', 'unsaid', 'wrongand', 'afraidthey', 'termination', 'precisely', 'night', 'refresh', 'answeredmy', 'cardparties', 'spokei', 'insensibility', 'villain', 'orphan', 'retract', 'roundabout', 'beaming', 'promote', 'childs', 'resisting', 'laughingshe', 'disapprobation', 'purport', 'audibly', 'inevitable', 'quivering', 'peoplefriendly', 'twentyfive', 'willand', 'conniving', 'separated', 'confesses', 'friendtell', 'white', 'fashioned', 'perplexing', 'enclosed', 'meanly', 'againit', 'says', 'knowing', 'observer', 'coldand', 'doi', 'renewed', 'goneand', 'reigning', 'satisfy', 'someso', 'qualified', 'produce', 'treat', 'implied', 'stairs', 'sensibility', 'ingenuity', 'accountable', 'wellknown', 'hands', 'biliousmr', 'included', 'mixture', 'tonight', 'received', 'sketches', 'fourteeni', 'knack', 'truth', 'worse', 'feed', 'self', 'tolerated', 'denoted', 'events', 'selfcontentment', 'remain', 'knightleynever', 'wellgrown', 'kingstonare', 'trampers', 'likes', 'operation', 'smithit', 'played', 'possess', 'confusion', 'smiledafter', 'itafterwards', 'choicehandsome', 'punctual', 'hopes', 'appropriated', 'amazing', 'cooland', 'offencepoor', 'talkand', 'accounting', 'werevery', 'probability', 'solicitous', 'carelessly', 'pleasureand', 'flower', 'favourfor', 'alertness', 'hurting', 'quicken', 'particular', 'huswifeand', 'composedly', 'repeatedor', 'stolen', 'easybut', 'dosmall', 'amusementmuch', 'startled', 'impolite', 'alloy', 'explains', 'performancei', 'squareisabella', 'imposing', 'pianofortea', 'rises', 'foolish', 'secresy', 'whim', 'pleasantly', 'askis', 'pleasantand', 'swiftly', 'abolition', 'emmaa', 'sex', 'common', 'impassable', 'abilities', 'plainer', 'rooted', 'shewing', 'curious', 'readiness', 'sooner', 'proposals', 'chair', 'wordher', 'probable', 'motto', 'healthhis', 'discontent', 'dulllooking', 'yesratheri', 'gainer', 'grammatical', 'soninlaw', 'misjudging', 'kissed', 'follows', 'ages', 'indulge', 'experience', 'telling', 'joints', 'alderneys', 'wisely', 'phrase', 'instruments', 'faultless', 'muchfor', 'singing', 'laughing', 'enmity', 'averting', 'design', 'exaggeration', 'independenceat', 'denied', 'alarmedshe', 'inadequate', 'suit', 'ashamed', 'sounds', 'brutal', 'inebriety', 'instrumental', 'moderately', 'noa', 'sink', 'offvery', 'likenessthat', 'astleys', 'specimens', 'worn', 'things', 'goodbye', 'prove', 'conveyance', 'beto', 'enjoy', 'scalloped', 'incongruity', 'its', 'tones', 'bondstreet', 'give', 'idolized', 'concluded', 'frame', 'pocketone', 'balance', 'steps', 'unfastidious', 'indeedwell', 'fatigued', 'perseverance', 'maintain', 'about', 'wastacitly', 'promptitude', 'lady', 'reception', 'hoursand', 'william', 'benow', 'inventing', 'portioning', 'unsentimental', 'blocked', 'proceeding', 'countrydances', 'freshened', 'tend', 'midnight', 'tearsbut', 'rest', 'expiration', 'yeshe', 'shells', 'trying', 'repast', 'yeomanry', 'allowing', 'affix', 'check', 'hers', 'join', 'lookand', 'temptation', 'slightingly', 'morningi', 'walka', 'pangs', 'summoned', 'youam', 'alas', 'pointedly', 'preserves', 'deference', 'lesson', 'nurse', 'delicately', 'oppression', 'glance', 'prevail', 'second', 'commandingly', 'entangled', 'conferring', 'bashfulness', 'win', 'using', 'expressi', 'transgressed', 'heremr', 'clevererfor', 'holidays', 'sad', 'seaa', 'improperly', 'propensity', 'illumination', 'sweetest', 'sittingroom', 'fairfaxwell', 'selfinterest', 'despatch', 'overhear', 'examine', 'redeclined', 'procure', 'preferred', 'stars', 'clergyman', 'isbut', 'beforeless', 'amends', 'coachman', 'send', 'flurry', 'willi', 'sisters', 'worship', 'resourcesand', 'thereoh', 'happiest', 'impossible', 'cromer', 'hasten', 'senseless', 'introducing', 'grievances', 'augur', 'apprehensively', 'since', 'gentleness', 'indicated', 'show', 'resulting', 'absolutely', 'ardent', 'madeira', 'comparison', 'courtesy', 'scheme', 'c', 'applications', 'repeating', 'saltingpan', 'seeingadmired', 'cannot', 'blushes', 'worshipping', 'goodnatured', 'lifeshe', 'closely', 'forgottenmy', 'drawback', 'triflingand', 'unanswered', 'only', 'truths', 'lips', 'prevails', 'refrain', 'wayand', 'peoples', 'contradicted', 'known', 'auntthe', 'family', 'insuperable', 'contingencies', 'signed', 'restored', 'contain', 'owe', 'partyin', 'yesterday', 'dutiful', 'opinionhe', 'sadly', 'helped', 'himnever', 'othernothing', 'determined', 'opposing', 'heard', 'restrained', 'comprised', 'kindness', 'describing', 'suspect', 'yellow', 'floor', 'overcame', 'feelings', 'somethingoffices', 'godmr', 'affirm', 'scruplewithout', 'ayelike', 'shewe', 'hasand', 'crowdand', 'adoration', 'explained', 'unlikely', 'trunk', 'illshe', 'calmer', 'guessall', 'listened', 'sentimentally', 'remained', 'tree', 'attainable', 'the', 'passedemma', 'dreadfulexactly', 'mechanically', 'fro', 'liquor', 'advise', 'absences', 'cheerfultempered', 'suffers', 'same', 'teachers', 'wishing', 'announce', 'resolutions', 'othersmystery', 'prime', 'intending', 'delightfullyhe', 'prince', 'fairfaxthought', 'implore', 'oneandtwenty', 'differentthe', 'danced', 'inevitably', 'manor', 'indignantlyoh', 'satisfaction', 'decease', 'christian', 'momenthis', 'leg', 'wella', 'acceptable', 'recently', 'stooping', 'himshe', 'ofsee', 'mysteriously', 'spite', 'doatingly', 'likelihood', 'ice', 'provocations', 'spared', 'merchant', 'fourandtwentycannot', 'misunderstand', 'gossipstiresome', 'courtplaister', 'disgusts', 'suppose', 'accent', 'rival', 'debate', 'intimate', 'holiday', 'polite', 'humph', 'crossness', 'perceived', 'labouring', 'thoughtless', 'anticipating', 'revive', 'salted', 'wrapped', 'obviate', 'mistresses', 'offend', 'remedy', 'knowwell', 'lamenting', 'disguised', 'circumstance', 'jamess', 'noreplied', 'muchbut', 'wavering', 'improper', 'pretension', 'daughterwho', 'invention', 'adventurous', 'seclusion', 'incommoded', 'makingup', 'envyyou', 'forest', 'understands', 'repeated', 'reprobation', 'can', 'parlour', 'spectaclesthe', 'wentshe', 'release', 'perfectionnot', 'himam', 'astonishingly', 'allhere', 'selfexamination', 'tomorrows', 'delightedfor', 'homeit', 'acre', 'illluck', 'ample', 'admitted', 'progress', 'hopednot', 'heated', 'blunder', 'pique', 'device', 'sonand', 'obligedbut', 'inexcusable', 'intelligent', 'apartment', 'asleep', 'battle', 'pounds', 'windowcurtain', 'apparently', 'indiscretion', 'heroines', 'removal', 'shamefully', 'shepherds', 'rush', 'haveand', 'pitiful', 'reckon', 'oppressive', 'sayyes', 'tiresome', 'excusein', 'wateringplace', 'surewhom', 'approbation', 'tranquillised', 'ahindeed', 'affectionate', 'treasure', 'encumbered', 'discordancies', 'expectations', 'influence', 'purposes', 'brunt', 'liberal', 'devise', 'grammarian', 'noticeshort', 'recommending', 'penetrating', 'seminary', 'namei', 'turn', 'lent', 'confederates', 'abusing', 'existence', 'emmashe', 'town', 'foresee', 'brewing', 'promise', 'splendour', 'catherine', 'indiscreetly', 'connected', 'suppress', 'throughand', 'capital', 'lucky', 'next', 'agricultural', 'deceive', 'welltied', 'twelve', 'himto', 'affectation', 'proprietor', 'inclination', 'listlessness', 'put', 'st', 'yourselfi', 'dexterity', 'sheet', 'fires', 'drunk', 'stale', 'recommendation', 'smithshe', 'excessively', 'reads', 'delicatehartfield', 'angry', 'learnt', 'indeed', 'meaning', 'penetrate', 'agreeable', 'parties', 'dreadful', 'wilful', 'secondly', 'littleness', 'gaieties', 'sickchamber', 'produces', 'enduring', 'engravings', 'unknown', 'mutterings', 'prospect', 'bushel', 'pocketbook', 'speedily', 'persuading', 'gallantryit', 'engagementwhat', 'disappoint', 'superiorand', 'courtship', 'defer', 'career', 'poor', 'standersby', 'presumption', 'importantand', 'impartiality', 'blossom', 'thoughtfuland', 'bread', 'destined', 'sighed', 'washing', 'division', 'finding', 'contrasted', 'procuring', 'recollecting', 'smallridgecharming', 'portionless', 'supposingthat', 'himupon', 'balycraig', 'insulted', 'place', 'introductions', 'heartfelt', 'nowhere', 'refreshment', 'dieshe', 'mental', 'shew', 'luxuries', 'goingyou', 'dwell', 'pointing', 'negatives', 'passage', 'detain', 'deviation', 'hospitality', 'creation', 'returned', 'apartments', 'reward', 'blown', 'hold', 'himthat', 'drudge', 'fruitless', 'fruit', 'command', 'humanely', 'ulcerated', 'undergo', 'powerless', 'case', 'puppyism', 'perhapsit', 'april', 'snowed', 'inconsideration', 'exertions', 'doubtedand', 'amuses', 'light', 'very', 'fit', 'evilno', 'rarity', 'orderly', 'hopingfearingadoringready', 'partial', 'courts', 'hei', 'guinea', 'gaze', 'children', 'blinds', 'perryhow', 'talk', 'fills', 'blush', 'fatherwhen', 'parlourboarder', 'consulted', 'welcoming', 'luxury', 'imagine', 'repliedthere', 'objection', 'dirt', 'yearsand', 'likenesses', 'talkbut', 'destination', 'box', 'encouragements', 'sheltered', 'spheres', 'contemplating', 'formidable', 'fluttered', 'jobfor', 'prearrangement', 'disputable', 'overcomethen', 'scream', 'aemmado', 'period', 'overcoming', 'tremblingbut', 'consternation', 'hereabouts', 'pitifullest', 'elegant', 'pained', 'impedimentless', 'onethat', 'herselfand', 'negligent', 'unison', 'admirer', 'glasses', 'live', 'perceivehe', 'meoh', 'unlike', 'magnificent', 'wetwe', 'fewer', 'moonlight', 'lifewellsitting', 'speedy', 'sobering', 'confidence', 'obstinate', 'soandso', 'chained', 'higher', 'please', 'integrity', 'christened', 'itthat', 'extended', 'credulity', 'giggle', 'magnified', 'poet', 'wakefield', 'baby', 'undoubting', 'awayparticularly', 'detailing', 'anotheri', 'wherein', 'philosophic', 'unreasonable', 'terseness', 'died', 'acquire', 'cousins', 'comforthow', 'descriptive', 'talking', 'significant', 'just', 'background', 'consequences', 'undone', 'suspense', 'contrary', 'womanthe', 'little', 'mineand', 'oftentimes', 'dissuade', 'places', 'interested', 'therefore', 'wayhis', 'timebutin', 'halfsyllables', 'tricking', 'satisfactionher', 'myselfthat', 'beenmr', 'sorethroats', 'opposite', 'assisting', 'contrast', 'dos', 'accomplishment', 'simply', 'questioned', 'it', 'nurserymaids', 'word', 'bore', 'elsewhere', 'complained', 'favourably', 'lawyer', 'onso', 'words', 'longing', 'greater', 'certainly', 'partly', 'welch', 'females', 'asperity', 'himselfbut', 'will', 'rides', 'whenever', 'nobodyvery', 'matched', 'verses', 'parsnip', 'aloud', 'itand', 'presents', 'peaceneither', 'stability', 'dexterously', 'educationand', 'beam', 'twofrom', 'wellbut', 'endingand', 'connecting', 'checkerwork', 'decline', 'bellas', 'drugs', 'dry', 'knightleyhow', 'farm', 'slyness', 'morningdropt', 'critical', 'completed', 'inquiries', 'syllable', 'friendsand', 'disliked', 'velocity', 'coolly', 'humourist', 'jealousyin', 'paling', 'fireside', 'resorted', 'november', 'denyshe', 'wore', 'care', 'longerand', 'yesi', 'during', 'fair', 'wellinformed', 'apprehended', 'postofficecatching', 'unaccountable', 'till', 'stimulative', 'happening', 'hereand', 'else', 'housemaid', 'charadeyou', 'voluntarily', 'unfeeling', 'table', 'chances', 'pretence', 'conquered', 'graceful', 'joyously', 'nearand', 'prompt', 'entirelyshe', 'leastpoor', 'corresponding', 'faster', 'summer', 'moderation', 'probably', 'meetings', 'absurdityactually', 'got', 'franks', 'politest', 'regard', 'remembrances', 'natural', 'defence', 'leftit', 'lavished', 'youshe', 'coldfetching', 'impose', 'obligation', 'extricated', 'youa', 'caprices', 'nowhe', 'eclat', 'latest', 'ascertain', 'simpleminded', 'nay', 'horrors', 'fact', 'assent', 'prohibited', 'reador', 'itballshad', 'exterior', 'guidance', 'pomp', 'visited', 'supplying', 'lovemore', 'liveliness', 'richard', 'article', 'reflected', 'condolence', 'touchstone', 'hartfield', 'childrena', 'knowif', 'harrietthose', 'discerning', 'accidentally', 'closer', 'terribly', 'allowances', 'become', 'excusable', 'inquired', 'attending', 'harboured', 'hard', 'pleasantness', 'encroachi', 'youhere', 'awaybut', 'less', 'feeling', 'interference', 'bristol', 'presuming', 'afternoon', 'some', 'flatterer', 'servant', 'feeble', 'seaside', 'surpass', 'depart', 'thankfully', 'attend', 'exult', 'raised', 'society', 'call', 'sound', 'rational', 'strongest', 'sweetbread', 'undiscerned', 'receives', 'fortunebut', 'fullest', 'teacher', 'varying', 'agreed', 'suppressed', 'abode', 'escape', 'aired', 'bends', 'glanced', 'purse', 'fortuneher', 'attends', 'youoh', 'stretch', 'intellect', 'more', 'conversable', 'contrived', 'removing', 'hair', 'conquering', 'merit', 'meand', 'corner', 'principle', 'seven', 'confound', 'reminded', 'handsome', 'politics', 'compunction', 'cox', 'softened', 'despatched', 'grown', 'properlythere', 'parents', 'admirable', 'snowing', 'physic', 'togethernot', 'delayed', 'knocked', 'disturbed', 'smithohi', 'increases', 'circle', 'disengage', 'engagingnot', 'cost', 'these', 'among', 'guided', 'behind', 'limewalk', 'shameand', 'evening', 'maintenance', 'henceforward', 'watercolours', 'inheriting', 'tunbridgeware', 'given', 'occupations', 'fairfaxsof', 'freed', 'randallsand', 'herthis', 'tom', 'grovecultivationbeds', 'upon', 'fancyi', 'hesitatednot', 'setnever', 'gained', 'looks', 'nonsense', 'twobut', 'blushing', 'communications', 'fate', 'have', 'attempt', 'silenced', 'lose', 'suggested', 'peculiar', 'friendliness', 'preference', 'deliver', 'convictions', 'ornament', 'earned', 'decided', 'daynever', 'twice', 'clifton', 'lighted', 'hastilypray', 'destroywhat', 'reserved', 'tremblei', 'eats', 'flushed', 'forward', 'sat', 'refrained', 'hartfieldthough', 'clearness', 'completest', 'thatit', 'grease', 'unnatural', 'proved', 'tooslowly', 'pausedshe', 'admission', 'sister', 'refuse', 'shockedjane', 'placed', 'dissentient', 'feelingsi', 'hating', 'hyperbolical', 'suggesting', 'illnessbut', 'captivated', 'deceived', 'engagements', 'scold', 'enlightened', 'although', 'butthat', 'parentage', 'office', 'seldom', 'showerwe', 'countertrying', 'yesit', 'possesses', 'resumed', 'eagernessnever', 'through', 'serious', 'profusion', 'drop', 'sixandthirty', 'wasa', 'lie', 'sowhere', 'enviable', 'coldwhich', 'lettersand', 'aloudall', 'liberties', 'wasfor', 'feared', 'system', 'console', 'seasonable', 'neighboursmy', 'elect', 'employ', 'denying', 'neighbourshe', 'togetherand', 'hethree', 'choice', 'accommodate', 'alarmed', 'ungracious', 'replying', 'dancingnot', 'undaunted', 'said', 'himhad', 'request', 'streethappy', 'fairfaxand', 'dinners', 'groundwork', 'unpardonable', 'minced', 'yesshe', 'negative', 'distantthere', 'intimately', 'analogy', 'done', 'artificiali', 'features', 'batessuch', 'comfortthat', 'wordwhy', 'manand', 'prefers', 'concerns', 'industry', 'unpretending', 'fairfaxgood', 'elegancies', 'expedition', 'eventa', 'bed', 'fearedi', 'woods', 'sing', 'hiswithin', 'burying', 'quaint', 'twenty', 'sit', 'presence', 'perrys', 'square', 'invent', 'grantedfor', 'engagement', 'conservatory', 'depressed', 'deliberating', 'distanceand', 'meconsider', 'seeking', 'strawberrybeds', 'huswife', 'inperhaps', 'forand', 'relates', 'descried', 'unanswerable', 'declarei', 'losses', 'doand', 'deal', 'complimentary', 'itstop', 'eminent', 'ruin', 'falling', 'devoid', 'livelihood', 'sorrowful', 'twentyfour', 'impossibilityyou', 'iv', 'principal', 'shortand', 'homes', 'condition', 'aspect', 'interests', 'crown', 'approving', 'woodhouses', 'august', 'washed', 'assuring', 'doat', 'unpermitted', 'smiththat', 'lastbut', 'ninthand', 'difficulties', 'befriended', 'supposedand', 'pain', 'sideboard', 'remarks', 'contemplate', 'by', 'shortly', 'bridei', 'walking', 'stating', 'steadiness', 'assuming', 'lodged', 'stationary', 'dismay', 'disposing', 'ungenerous', 'besides', 'shift', 'overtrimmedquite', 'creep', 'shocked', 'replacing', 'amshe', 'briskness', 'weighs', 'entrance', 'fetches', 'accounti', 'cutting', 'accommodations', 'pointand', 'reticule', 'earliest', 'flown', 'divisions', 'vouches', 'expedients', 'beaufetmrs', 'threeandtwenty', 'cowper', 'fare', 'turned', 'knowevery', 'civil', 'woodhouseing', 'looked', 'wasno', 'lastshe', 'head', 'ofthe', 'overcareful', 'crushed', 'congratulations', 'lectured', 'fidgetiness', 'distant', 'defend', 'then', 'age', 'inward', 'amusing', 'duly', 'bewildered', 'grandpapas', 'ground', 'expressive', 'believe', 'humility', 'stuck', 'yourself', 'heron', 'june', 'takeand', 'faults', 'culture', 'oclock', 'oysters', 'independent', 'havei', 'sighs', 'poison', 'lamented', 'treasuring', 'freaks', 'demanding', 'illjudged', 'damp', 'wornout', 'epithets', 'limitations', 'adding', 'notbut', 'pretend', 'justly', 'hearty', 'improvement', 'enjoyshe', 'reserves', 'creating', 'windup', 'apprehension', 'dono', 'cellery', 'honours', 'announcebut', 'informed', 'need', 'likelyi', 'sup', 'mistakewhat', 'didcheerfully', 'plainlypray', 'agothat', 'figure', 'plainly', 'inn', 'mean', 'congratulationi', 'halfgentlemen', 'unexampled', 'kbut', 'promised', 'diffident', 'ownthat', 'expose', 'elevation', 'quarterof', 'looksi', 'back', 'depreciating', 'highburyhe', 'walkthe', 'itif', 'adapt', 'pointssuch', 'whether', 'meanmistake', 'gratefuland', 'february', 'lessened', 'incidental', 'memorial', 'bow', 'couplei', 'ribbons', 'armmr', 'speculations', 'dohow', 'astonishing', 'carriageit', 'slow', 'actit', 'gratification', 'worthy', 'courtshipa', 'superiorto', 'coxcomb', 'sedate', 'learned', 'image', 'gradations', 'regretted', 'miniatures', 'distinguish', 'sheets', 'unevenness', 'runs', 'daily', 'tried', 'correspondence', 'detained', 'mercantile', 'wiser', 'emmaemma', 'fatherinlaw', 'illhealth', 'goes', 'understandingsome', 'wouldfor', 'bride', 'interrupting', 'visiti', 'againmr', 'retaining', 'health', 'come', 'taylori', 'risk', 'obstacles', 'now', 'xviii', 'mere', 'conscious', 'leave', 'objecting', 'oftener', 'amused', 'prescribed', 'appears', 'weariness', 'aids', 'lot', 'crowded', 'rejoiced', 'pleased', 'goodtemper', 'dignity', 'noshe', 'ecstasies', 'rescuethe', 'irritate', 'fathomed', 'fond', 'sign', 'base', 'hated', 'bears', 'quieter', 'related', 'genlis', 'safer', 'tooand', 'tempted', 'spontaneous', 'pent', 'varieties', 'drifting', 'forbearance', 'farthershe', 'mistresss', 'sleep', 'somehow', 'restricted', 'overflowing', 'fortuneagain', 'flame', 'herbefore', 'checking', 'cold', 'longestsighted', 'cease', 'boast', 'smell', 'knowthe', 'refinement', 'negligence', 'introduced', 'accountsuch', 'prophetically', 'dispensing', 'accomplished', 'decides', 'theirs', 'instinctive', 'opposition', 'handed', 'approve', 'pause', 'concentrated', 'protection', 'object', 'encouragementsir', 'dances', 'errormore', 'mistaken', 'grandmother', 'follyit', 'hindrance', 'passion', 'misery', 'iron', 'thick', 'happen', 'unequivocal', 'limited', 'refused', 'feelingly', 'repellent', 'friendsaid', 'recollected', 'nervously', 'forthinks', 'faces', 'zeal', 'conscience', 'leasti', 'resolution', 'offering', 'prose', 'relici', 'dancing', 'hawkins', 'openly', 'wound', 'refined', 'carelessness', 'husbands', 'eleven', 'dependence', 'bird', 'sung', 'offence', 'whiten', 'hearing', 'shipplain', 'yesdid', 'pattern', 'provoked', 'rejoined', 'incomplete', 'flatteringbut', 'trifling', 'deplore', 'slices', 'smallridgewhat', 'unchecked', 'affairs', 'pencilled', 'mischievous', 'brother', 'fourth', 'superintend', 'pursuing', 'thy', 'unfinished', 'routcakes', 'unequal', 'fancifulness', 'himor', 'short', 'enabled', 'determining', 'cloak', 'provoke', 'emotion', 'housebreaking', 'consequent', 'cheerfully', 'idleness', 'octoberformed', 'substance', 'blame', 'colour', 'woodhousedear', 'sitting', 'spokehowever', 'treesand', 'maamand', 'teathe', 'closet', 'proposed', 'declaration', 'reflections', 'elder', 'defects', 'observable', 'halfwhisper', 'road', 'pearls', 'wounded', 'standard', 'lengthened', 'absented', 'gains', 'labour', 'heap', 'cautioned', 'opens', 'iswhat', 'fearless', 'horse', 'nerves', 'attached', 'beds', 'remonstrance', 'marries', 'renewal', 'diffuses', 'fallen', 'zealit', 'mein', 'heartsuch', 'thrown', 'strangeafter', 'motion', 'otherhow', 'combined', 'unreasonably', 'five', 'puzzling', 'keep', 'irresistible', 'level', 'onand', 'themmrs', 'correct', 'previously', 'stayed', 'sack', 'brotherinlaw', 'cameos', 'doctoring', 'meimagine', 'terror', 'impartially', 'miserableit', 'execution', 'solicitudesincerely', 'reconcile', 'insensibly', 'parlours', 'yielding', 'charm', 'directlyi', 'scrupulous', 'shewed', 'confessing', 'solicitude', 'resigned', 'foreshorteningoh', 'property', 'goingson', 'conceited', 'harrietsand', 'frankit', 'desiring', 'addition', 'actions', 'park', 'itwhere', 'lately', 'speak', 'foretell', 'lead', 'render', 'disingenuousness', 'thoughts', 'stake', 'letteroh', 'overpower', 'effecting', 'entitling', 'afraid', 'westonwith', 'side', 'minutesand', 'talked', 'persuasively', 'triumphant', 'flock', 'glad', 'instead', 'delicious', 'days', 'langham', 'andmay', 'mebut', 'efficacy', 'endure', 'was', 'clear', 'unwholesome', 'unwelcomesuch', 'assurances', 'reproaches', 'play', 'absolute', 'agoshe', 'united', 'sheto', 'ensued', 'siror', 'quickness', 'desultory', 'impertinence', 'wait', 'writes', 'greathowever', 'putrid', 'colds', 'established', 'lawn', 'lookhow', 'wellbehaved', 'four', 'handled', 'job', 'renewedgardeners', 'blindedthat', 'givenfrightfully', 'indignant', 'fame', 'appease', 'threatening', 'train', 'halfhour', 'house', 'novelty', 'separating', 'agreement', 'windowsbut', 'himselfwhich', 'low', 'minor', 'upstarts', 'mindlook', 'doubtinglyrather', 'fairfaxbut', 'forwardmr', 'believedshe', 'courageous', 'tuesday', 'johns', 'hears', 'fidgeting', 'thoughtespecially', 'started', 'offences', 'narrative', 'alluded', 'herelet', 'poem', 'presented', 'spiritif', 'containing', 'kindnessand', 'undesigned', 'high', 'breathing', 'helpmate', 'womana', 'close', 'asks', 'youi', 'plump', 'excepted', 'anothervery', 'applied', 'timetiresome', 'shall', 'bone', 'rainshe', 'complimentsher', 'bound', 'delays', 'houses', 'exactly', 'butter', 'kindnessfor', 'regret', 'scramble', 'immediatelyon', 'hopehumphin', 'reproachah', 'fancies', 'soour', 'consciously', 'dealt', 'requisite', 'so', 'tomorrowi', 'geography', 'halfcircle', 'persuade', 'undertake', 'interfere', 'accompany', 'unhappiness', 'mortalsfrank', 'dentist', 'kindthe', 'disorder', 'hear', 'followed', 'ceases', 'knightleys', 'featured', 'sept', 'involvedi', 'plague', 'childrenthey', 'doubtfully', 'transition', 'amidst', 'poorer', 'shews', 'overcome', 'preconceived', 'horses', 'broken', 'pedal', 'rumination', 'pity', 'thoughtfully', 'venturing', 'harsh', 'imaginations', 'thenonly', 'surmise', 'achieved', 'accompanying', 'lest', 'ownvery', 'eventually', 'announced', 'adventure', 'sets', 'concealmentsuch', 'fixing', 'todayfor', 'wholesomethese', 'myselfbut', 'arose', 'amid', 'approached', 'taylorit', 'witness', 'steadily', 'fresh', 'caps', 'goodwill', 'plenty', 'politeness', 'momentor', 'bitter', 'ofyes', 'first', 'thousands', 'path', 'collectedand', 'commission', 'leastexcept', 'misunderstandings', 'menever', 'ostler', 'dreams', 'toi', 'wall', 'welllooking', 'woodhouseif', 'resign', 'explanation', 'satisfiedunaccountable', 'grant', 'expedient', 'paused', 'tour', 'itimpossible', 'impertinent', 'communicative', 'janeand', 'page', 'sport', 'evils', 'themmorning', 'representation', 'traffic', 'forcibly', 'led', 'present', 'lover', 'foot', 'brief', 'stopt', 'distinct', 'misconstrued', 'enormous', 'touches', 'yesterdaythat', 'solemnity', 'grudged', 'impression', 'residence', 'wandering', 'unjust', 'insolent', 'unmerited', 'prejudice', 'whose', 'composing', 'pursuit', 'militia', 'drowned', 'sortwhich', 'heartshe', 'needless', 'cole', 'tidings', 'professional', 'minister', 'kingsweston', 'regiment', 'sillyso', 'lasts', 'hindered', 'persuadedmiss', 'admissible', 'pursuits', 'scolded', 'wretched', 'shrubs', 'ox', 'goodhe', 'attestation', 'arrived', 'settling', 'disrespect', 'action', 'cobham', 'themfor', 'verse', 'minority', 'unintelligible', 'differently', 'contrive', 'pet', 'imposed', 'hairyou', 'converse', 'ballwhy', 'fearfullyi', 'looksmr', 'rushed', 'quitting', 'nonsensical', 'pen', 'remissi', 'wayallowing', 'thou', 'overlook', 'shawlfrank', 'project', 'final', 'performervery', 'aghast', 'chosethat', 'outlived', 'nor', 'nowit', 'hunting', 'cominghis', 'declined', 'books', 'hereprobably', 'importance', 'wind', 'sennight', 'mortify', 'notit', 'putto', 'pace', 'playyes', 'field', 'halflengths', 'trust', 'begun', 'comeand', 'jumble', 'insufferabledreadfuli', 'backgammontable', 'hero', 'herthey', 'characters', 'decisive', 'supplication', 'impending', 'accomplishments', 'sensible', 'visitings', 'laborious', 'successfully', 'unquestionably', 'unseen', 'irregular', 'itmrs', 'distance', 'disappointment', 'forenough', 'recollectit', 'forming', 'collected', 'pitied', 'anticipatedwhich', 'bosom', 'purposely', 'came', 'allied', 'cordiality', 'chatted', 'sixtyfive', 'politician', 'rather', 'beforeevery', 'illtempered', 'discussing', 'notfor', 'recovery', 'profits', 'honourglanced', 'deniedand', 'thousandshappier', 'luck', 'johnhe', 'faint', 'tune', 'stockings', 'wherewas', 'slavetrade', 'estimate', 'laying', 'badthe', 'whatengaged', 'attack', 'advising', 'equals', 'finale', 'names', 'botha', 'sheep', 'waswhy', 'widower', 'narrower', 'collation', 'eighth', 'must', 'threadbare', 'suspicions', 'muslin', 'soharriets', 'fathershe', 'degree', 'general', 'eager', 'routine', 'thirty', 'separate', 'involved', 'nought', 'resultthe', 'governesstrade', 'paper', 'visitor', 'itwe', 'whistclub', 'vaunted', 'there', 'henry', 'pursue', 'lane', 'travel', 'dispersed', 'performer', 'parting', 'steadiest', 'unprovided', 'impairperhaps', 'feature', 'contradict', 'surry', 'begged', 'fastidious', 'wretchedly', 'preferable', 'himstanding', 'securitywhat', 'darling', 'expediency', 'ballthe', 'freedom', 'lowfrank', 'itit', 'convey', 'transported', 'wonderful', 'thoughtful', 'ingenious', 'hearted', 'contemplated', 'upher', 'yorkshirethat', 'eligibly', 'disagreement', 'regularity', 'gonebut', 'casements', 'abbots', 'stept', 'blundered', 'plainest', 'works', 'slowly', 'resolutelylet', 'herbe', 'tooknowing', 'swayed', 'xv', 'set', 'dismal', 'impatience', 'guessing', 'flourishes', 'humour', 'unabated', 'thoroughly', 'mode', 'thats', 'disappointments', 'thereone', 'subduing', 'doctrines', 'irritateshe', 'handsomely', 'chicken', 'inherited', 'dearer', 'flattering', 'omission', 'sang', 'habitual', 'dependenceand', 'cow', 'regular', 'doom', 'viewed', 'hartfieldbut', 'blow', 'when', 'gay', 'schoolroom', 'agreeableness', 'whole', 'six', 'habitthey', 'safe', 'missed', 'applicantsbad', 'countenance', 'belonging', 'gestures', 'shopping', 'formerly', 'wins', 'continuing', 'surrender', 'nothingmeaning', 'journey', 'conditionally', 'refreshingonly', 'gross', 'motherinlaw', 'oclockdepend', 'went', 'ablehave', 'feltit', 'manchesterstreetwas', 'dulness', 'reconciled', 'evil', 'sufficient', 'wonder', 'bank', 'smilingly', 'clouds', 'squareand', 'created', 'totally', 'excited', 'mimic', 'encouragement', 'lettershe', 'insane', 'honest', 'july', 'poultryhouse', 'moralised', 'bargain', 'shouldand', 'seemif', 'thingmr', 'street', 'conjectures', 'goodlooking', 'born', 'firei', 'againno', 'westonto', 'coffeea', 'lostbut', 'prosperity', 'ostlers', 'slap', 'missing', 'drawingroommr', 'spectacles', 'bestow', 'embraces', 'lasting', 'brace', 'term', 'spoilt', 'emmai', 'spinet', 'depending', 'martin', 'certainty', 'station', 'suspicioni', 'niecesi', 'commandbut', 'escapedear', 'inspect', 'scene', 'coldness', 'guard', 'insincere', 'grace', 'obtrudebut', 'memiss', 'adjoining', 'kindnessthe', 'luckiest', 'several', 'roomshe', 'ribband', 'discipline', 'almost', 'whitehart', 'reappeared', 'deservedly', 'reason', 'comparing', 'neighbourhood', 'appearbut', 'roomsit', 'mute', 'struggled', 'desert', 'pembroke', 'incompatible', 'dress', 'unseasonableness', 'frighten', 'fine', 'displays', 'managed', 'nodding', 'parlourdoor', 'measuring', 'graces', 'tolerably', 'complying', 'palpitations', 'returning', 'crisis', 'encounter', 'husband', 'moralising', 'calmly', 'companionableness', 'recollection', 'nicety', 'lifethey', 'delight', 'nohe', 'families', 'questions', 'wholly', 'deathbed', 'educated', 'moderatesized', 'imitation', 'satisfies', 'preferment', 'distinguished', 'larger', 'apparent', 'hereyour', 'fortunethose', 'recover', 'protest', 'respectability', 'partner', 'bear', 'surei', 'subsided', 'murmured', 'regulated', 'anna', 'industriously', 'ease', 'manthat', 'quit', 'affliction', 'dictate', 'firstshe', 'weaker', 'absentshe', 'richardi', 'nicer', '1816', 'renting', 'fancied', 'letterwrote', 'positive', 'refuted', 'fairest', 'mare', 'interpret', 'aspired', 'endurance', 'marryi', 'lungs', 'unfeelingly', 'advances', 'favourable', 'composurethere', 'polish', 'vanityto', 'misses', 'gloriousthe', 'flatterersdoes', 'pulmonary', 'unwell', 'dissipate', 'silent', 'isno', 'herit', 'hypocrisy', 'waking', 'pastures', 'colesworthy', 'interest', 'shilling', 'dispersing', 'prophecies', 'oversalt', 'warmer', 'regrets', 'inimitable', 'dropped', 'onhave', 'martinshe', 'difference', 'oddi', 'consult', 'hearthey', 'contribute', 'entertainment', 'dangers', 'enough', 'lands', 'corresponded', 'fitted', 'mutton', 'truly', 'charadeand', 'impropriety', 'illequipped', 'upone', 'wreath', 'ready', 'malt', 'halfsecond', 'commend', 'wives', 'speeches', 'understand', 'alla', 'sixpence', 'undesignedly', 'grow', 'reprehension', 'mama', 'surprizea', 'cake', 'throughout', 'dryly', 'fondand', 'liable', 'bridepeople', 'dirty', 'discussed', 'delicate', 'sun', 'inconveniently', 'emmas', 'hesitated', 'understandcertainly', 'assured', 'conversed', 'serviceable', 'headaches', 'misconceptions', 'wordmiss', 'voluntary', 'interruption', 'pair', 'stoopingglaring', 'hours', 'inexperience', 'younger', 'prevailed', 'fancying', 'deprecated', 'watching', 'xiii', 'wearying', 'appearances', 'waiving', 'playsfor', 'taught', 'trimming', 'deadening', 'lines', 'ones', 'our', 'failures', 'act', 'stirred', 'capacity', 'flatter', 'relapse', 'mercy', 'seized', 'impulse', 'insufferable', 'calculation', 'criticising', 'smy', 'himyou', 'losing', 'excellent', 'outshe', 'concernthe', 'arranging', 'eltonsprobably', 'toevery', 'distinguishing', 'medical', 'privileges', 'concealment', 'north', '28th', 'fairly', 'sure', 'sirwas', 'fortuneyou', 'accuse', 'predicament', 'humphharriets', 'provocation', 'succeeding', 'disturbing', 'concernsomething', 'know', 'pacing', 'conversationinterrupted', 'cardroom', 'unconsciously', 'unfair', 'rank', 'tomorrowand', 'caresand', 'reluctant', 'comments', 'distinctly', 'partiesyoung', 'undue', 'prompted', 'protesting', 'schoolnot', '28thand', 'highbury', 'indignity', 'howeverfor', 'consideratebut', 'coffee', 'relieved', 'oddest', 'ladyand', 'thousand', 'persuasion', 'knightleyyou', 'praising', 'stokes', '26th', 'fastening', 'impressed', 'welljudging', 'attributed', 'marrythis', 'arrogance', 'naturally', 'evenings', 'conferred', 'dating', 'january', 'articles', 'meritsince', 'audible', 'hernothing', 'de', 'silver', 'noticeit', 'himbut', 'puzzle', 'bellringing', 'nocried', 'feetit', 'think', 'fever', 'hotter', 'stipulation', 'indifference', 'wearied', 'always', 'entitle', 'glaring', 'quality', 'growing', 'circumspection', 'praises', 'assurancesand', 'myself', 'water', 'treatment', 'meno', 'belongs', 'everywhere', 'sureour', 'xii', 'sinned', 'rightly', 'myselfi', 'dares', 'open', 'mans', 'quadrille', 'tenaciously', 'lament', 'cheap', 'filling', 'noteno', 'gratify', 'systemsand', 'engages', 'pertinacity', 'discuss', 'womanbut', 'wicked', 'surprizedbut', 'kindnessit', 'politenessoh', 'taken', 'illbred', 'fully', 'gracious', 'wretchedest', 'itstill', 'dashing', 'otherstop', 'declared', 'inquiry', 'detailmethodical', 'fling', 'contrivedno', 'drunkenness', 'acuteness', 'stipulate', 'friendsbut', 'xvi', 'preparing', 'faithful', 'insight', 'abbeymill', 'repliedand', 'outwardly', 'midsummer', 'mother', 'anxietyhe', 'heis', 'mustyes', 'pulse', 'essential', 'peeped', 'wounding', 'forgotten', 'horsewomanpleasant', 'dixonemma', 'uncomfortable', 'richest', 'ahso', 'whisper', 'kindred', 'suppertable', 'hershall', 'evidence', 'incommoding', 'herei', 'idle', 'wander', 'preserved', 'discussion', 'adair', 'hesitate', 'urgency', 'sons', 'fervour', 'application', 'west', 'posthorses', 'relating', 'stupidity', 'rationally', 'companion', 'neat', 'discoveries', 'soften', 'ostentation', 'dishes', 'being', 'slightly', 'spirits', 'weather', 'declares', 'soundand', 'tablemrs', 'hate', 'protected', 'porkand', 'alive', 'taylors', 'profit', 'boil', 'alarmabout', 'impossiblewas', 'canvassing', 'raptures', 'eatsso', 'rough', 'extravagance', 'longer', 'blunt', 'skinsuch', 'willing', 'prize', 'passable', 'persevered', 'secret', 'comfortless', 'criticism', 'wingfield', 'trusting', 'vanitybut', 'constancy', 'e', 'warmthbut', 'thingwhy', 'fords', 'thata', 'liked', 'altar', 'new', 'sluggish', 'milder', 'inhabited', 'pushing', 'kitchen', 'wellwhen', 'overtake', 'deserts', 'wherever', 'hatred', 'subordinate', 'sting', 'deeply', 'pay', 'competent', 'thingi', 'distresseddid', 'statement', 'eltons', 'painbut', 'vast', 'order', 'asked', 'start', 'invites', 'friday', 'opportunity', 'medals', 'increased', 'knowbut', 'deceivedhe', 'thinkingoh', 'preferenceremained', 'alonei', 'ungenial', 'judgment', 'hanging', 'defies', 'part', 'entrapped', 'exclaim', 'name', 'facts', 'personally', 'beauties', 'deduction', 'replete', 'imagination', 'riding', 'liberalit', 'heirexpectant', 'workbags', 'landed', 'invitations', 'desirableness', 'reputeand', 'strive', 'perusal', 'colesand', 'roadthe', 'feelingit', 'treble', 'adventuring', 'swelled', 'fromand', 'bustle', 'bounded', 'repressing', 'muchhe', 'desirous', 'condescension', 'prepared', 'gaily', 'cough', 'vowed', 'fordsfords', 'notion', 'impressedso', 'stopped', 'contents', 'styles', 'glossed', 'indolent', 'unimpeded', 'humane', 'stakeno', 'proceededand', 'homenothing', 'robe', 'future', 'grounds', 'resident', 'fortnighthowever', 'oppress', 'ownbut', 'year', 'untoward', 'perceive', 'raved', 'wayso', 'coxe', 'cross', 'foolishly', 'bowed', 'n', 'nomrs', 'distresses', 'janeinquiries', 'silversmith', 'ought', 'slowlyso', 'mild', 'superiorhis', 'awes', 'clearsighted', 'impossibility', 'plausible', 'smallsized', 'makeshe', 'instant', 'changeit', 'carriages', 'widow', 'inspiration', 'samebut', 'crossand', 'counties', 'eitherfor', 'drank', 'freeze', 'hopepretty', 'court', 'child', 'discreetly', 'leaves', 'abroadof', 'notes', 'incredible', 'dancer', 'tremblings', 'demanded', 'fortunately', 'arrangement', 'could', 'never', 'travelling', 'daring', 'equality', 'esteemed', 'affability', 'unperceived', 'palpably', 'professing', 'laugh', 'cheerless', 'bluntness', 'submissively', 'sublime', 'youalways', 'evinced', 'educate', 'shy', 'each', 'rights', 'discovering', 'exclamation', 'pitiable', 'prodigies', 'string', 'fortnight', 'joyfully', 'chosen', 'making', 'retire', 'opened', 'despaired', 'involve', 'wonderbut', 'knightleythey', 'ancient', 'dancesemma', 'expressions', 'stabbed', 'overthrow', 'assistant', 'detected', 'dearand', 'plans', 'xix', 'lovely', 'indisposed', 'strongly', 'streets', 'thatvery', 'imagines', 'ambition', 'season', 'homely', 'blunders', 'amiableness', 'himshould', 'constant', 'fenced', 'step', 'chatter', 'opinionmiss', 'listeners', 'quick', 'barely', 'togetherfrank', 'forswear', 'thanker', 'productive', 'snows', 'altogetheri', 'amor', 'proverb', 'tricksi', 'noit', 'scarcechili', 'pointedlyand', 'proceed', 'disordered', 'shops', 'visibly', 'closest', 'privately', 'groveand', 'sorry', 'solicitously', 'misunderstood', 'harm', 'metwinkling', 'accounts', 'refusal', 'form', 'joining', 'civilities', 'shrubbery', 'nod', 'volume', 'chapter', 'basis', 'indeedthere', 'writingdesk', 'alone', 'originally', 'improprieties', 'themselves', 'autumn', 'conceive', 'carefulness', 'hodges', 'apples', 'himnot', 'solemnly', 'farmer', 'reply', 'diningparlour', 'noticed', 'churchillhe', 'beetroot', 'arthurhow', 'art', 'camemadness', 'saidbut', 'undecided', 'wifemy', 'persuasions', 'proving', 'gate', 'exceeding', 'adieus', 'wheres', 'sorryand', 'sorrycome', 'attractions', 'yield', 'adherence', 'disagreeablei', 'conversation', 'avert', 'likeliest', 'supposing', 'interchange', 'lovedyes', 'nominal', 'elbow', 'honourwhy', 'caro', 'unspent', 'pronouns', 'women', 'giver', 'eltonjane', 'passive', 'however', 'persuadable', 'confusiona', 'paying', 'hitherthe', 'momentary', 'involuntarily', 'altered', 'resignation', 'declaring', 'acrostic', 'plantation', 'vicar', 'didbut', 'resisted', 'disposition', 'song', 'expectedshe', 'dear', 'disposedhad', 'heritage', 'pert', 'displeasure', 'purchased', 'disguise', 'council', 'intelligible', 'inroads', 'parley', 'rules', 'pleasedso', 'notill', 'welcome', 'cardsand', 'yesbut', 'mamas', 'measured', 'introduction', 'diverted', 'spring', 'readiest', 'hospitable', 'meantand', 'duties', 'grieved', 'alreadybut', 'habit', 'devote', 'unknowni', 'patiently', 'fellow', 'mistakenand', 'argument', 'deepin', 'habitation', 'knitting', 'understandings', 'fortune', 'resent', 'leather', 'bravado', 'eltonno', 'reproach', 'dealbut', 'daughter', 'wrap', 'expressedalmost', 'amounted', 'instruction', 'doomed', 'speculation', 'doer', 'staggered', 'wellbuilt', 'overhearing', 'mineshe', 'tremor', 'value', 'chuse', 'theodore', 'shows', 'representations', 'passing', 'reprehensible', 'discreet', 'finessehow', 'workmen', 'pressed', 'herher', 'tone', 'unmentioned', 'exercise', 'knee', 'beno', 'handsomeshe', 'downstairs', 'vi', 'unheard', 'leavesomething', 'carriagewe', 'superiorno', 'donwell', 'unsteady', 'wedding', 'intelligencelistened', 'quits', 'coming', 'gradual', 'superior', 'favouring', 'exerted', 'shortmerely', 'regretsto', 'facing', 'proposing', 'strenuously', 'outhe', 'temporary', 'eyes', 'gayest', 'newly', 'desperate', 'governess', 'fathers', 'declarationmade', 'omitting', 'empty', 'surprized', 'cleverest', 'read', 'yesthere', 'arisen', 'weddingpresentso', 'behalf', 'drizzle', 'scarce', 'presumptuous', 'whoever', 'saysbut', 'mania', 'should', 'coxes', 'commanding', 'cousin', 'hurts', 'frightful', 'hawkinswell', 'sentiment', 'decisively', 'authority', 'material', 'suggest', 'tempting', 'sakei', 'outchurchilld', 'prevalence', 'separation', 'conduct', 'principally', 'nursed', 'reconciliation', 'charity', 'gallantries', 'tippet', 'quite', 'acquitted', 'estimable', 'suntired', 'upand', 'despise', 'mock', 'custom', 'use', 'schoolgirls', 'somewhat', 'thought', 'correspondent', 'standing', 'above', 'constituted', 'acted', 'longstanding', 'with', 'youm', 'hasty', 'didand', 'disengaged', 'gardeners', 'muttering', 'uncouthness', 'eveningdo', 'player', 'carewhen', 'breakfast', 'randallswell', 'ordinary', 'kindly', 'illegitimacy', 'onyou', 'lets', 'beginshe', 'allow', 'personage', 'accrue', 'topics', 'hoping', 'calling', 'sortsdelightful', 'answeredi', 'recollectharriet', 'express', 'i', 'ungallant', 'unite', 'boyish', 'wordsone', 'engrafted', 'emmabut', 'richly', 'daywhich', 'misconception', 'penknife', 'summerhouse', 'outgrown', 'awaywhatever', 'sauntering', 'deciphered', 'crayons', 'inconvenientpoor', 'themand', 'sweeping', 'bows', 'deari', 'morrows', 'clubnights', 'supposition', '24th', 'burst', 'househow', 'dwellings', 'desponding', 'sarcastic', 'built', 'privilege', 'curiosityyou', 'assented', 'tonomr', 'genius', 'frontdoor', 'touch', 'suddenness', 'observations', 'wheremay', 'tear', 'scoundrel', 'law', 'sufficed', 'flutter', 'regarding', 'additional', 'amazed', 'incumbent', 'hearinghow', 'instrumentthough', 'accordant', 'and', 'mailsit', 'flavour', 'plaintive', 'degreei', 'abruptly', 'cautious', 'ride', 'trick', 'remiss', 'sin', 'parish', 'yards', 'borne', 'indeedi', 'uponi', 'under', 'hazards', 'complain', 'uncivil', 'dread', 'reckoned', 'chatty', 'committedyour', 'preclude', 'alarms', 'permanently', 'plotting', 'strikes', 'woodhousehe', 'seemed', 'doubtingly', 'philip', 'group', 'quarrels', 'inexpressible', 'impudent', 'astonishment', 'flow', 'sparedbut', 'envy', 'milesnay', 'doneone', 'motheror', 'injustice', 'wedging', 'tray', 'wereshe', 'sorrow', 'james', 'forth', 'procrastinating', 'series', 'accosted', 'whispered', 'ear', 'comfortand', 'driven', 'worldly', 'mixingand', 'leisure', 'conceal', 'shaken', 'understood', 'nightif', 'detecting', 'doorsa', 'change', 'carpetwork', 'vouch', 'tenderest', 'canto', 'smithwhat', 'comprehension', 'management', 'magistrate', 'souls', 'ruined', 'outrage', 'limb', 'irresolute', 'rising', 'gentle', 'native', 'stables', 'renewing', 'nice', 'sighing', 'carriagewho', 'produced', 'basins', 'others', 'aright', 'dwelt', 'knowin', 'lords', 'medium', 'prettyspoken', 'perturbation', 'slackened', 'janethat', 'anything', 'ha', 'education', 'purest', 'harrietsmore', 'blended', 'silly', 'modes', 'skin', 'modern', 'dozen', 'carries', 'instants', 'courtplaisteri', 'twofold', 'trivial', 'fairfax', 'niecemrs', 'indebted', 'footing', 'waiters', 'impartial', 'corroborating', 'french', 'connexions', 'perrysi', 'interfered', 'funeral', 'roadso', 'transgression', 'sublimity', 'testifying', 'musicpassionately', 'gentlemeni', 'follow', 'shark', 'reflect', 'unpersuadable', 'lazy', 'doubts', 'get', 'actual', 'similar', 'erroneous', 'affection', 'infancy', 'confirmation', 'emulate', 'suitableness', 'stormy', 'consciousness', 'room', 'errant', 'rose', 'needlework', 'saunders', 'oneself', 'charge', 'abundance', 'exceed', 'expert', 'neighbourhoodlives', 'excellence', 'councillors', 'terrified', 'dark', 'seriousness', 'midst', 'ratheri', 'excuses', 'honourably', 'indeedpoor', 'sacrifice', 'gown', 'pang', 'sold', 'smartened', 'immaterial', 'mend', 'labours', 'inflicted', 'breathe', 'octobersecretly', 'scarcely', 'obligingis', 'indefinite', 'effort', 'churchillsor', 'entertain', 'countrydance', 'soon', 'beenan', 'insteadnever', 'dearest', 'consultationmr', 'happily', 'remind', 'attention', 'doubledyed', 'producing', 'shop', 'neighbours', 'miserably', 'stores', 'appearance', 'detailed', 'restoratives', 'woodhouseindeed', 'blockhead', 'another', 'oncemuch', 'posthow', 'ix', 'declining', 'lastunclosing', 'fixed', 'shorten', 'prosperous', 'yet', 'acknowledgment', 'suffering', 'acute', 'laurels', 'they', 'finery', 'thorough', 'altogetherthought', 'spirit', 'also', 'umbrellas', 'sights', 'owes', 'forgot', 'reach', 'begging', 'implicitly', 'mud', 'bestowed', 'wellwith', 'viii', 'dreadfully', 'unchanged', 'timber', 'portrait', 'noevery', 'recovereddo', 'twocompared', 'individually', 'homewards', 'sufficiently', 'satisfiedour', 'attitude', 'amiss', 'pages', 'attractive', 'upstairs', 'curtseys', 'casement', 'anne', 'johnand', 'unconvinced', 'reconciliationhe', 'camea', 'compatible', 'intentlyin', 'eyeof', 'interposed', 'candidly', 'preserving', 'disgust', 'meanwhat', 'comfortable', 'ripening', 'outcry', 'combated', 'intimation', 'dayabout', 'dimensions', 'arms', 'clamorous', 'expressed', 'sidebut', 'shedding', 'patronage', 'hems', 'extent', 'tendency', 'undoubtedlyremarkably', 'waives', 'unexceptionably', 'judging', 'unpretty', 'fatigue', 'toomrs', 'beg', 'virtues', 'affixed', 'delighted', 'disgustingly', 'sentences', 'itbut', 'carteblanchei', 'too', 'coupled', 'cleared', 'celibacy', 'column', 'sums', 'maps', 'warmth', 'involuntary', 'hereyes', 'niece', 'disgraced', 'refreshing', 'expiation', 'assembled', 'bedridden', 'designs', 'vulgarity', 'accompaniment', 'worked', 'prepare', 'intercourse', 'coolness', 'blessing', 'phraseyour', 'accepts', 'herenot', 'ceiling', 'pensive', 'joke', 'communicate', 'breast', 'ushered', 'badhe', 'dine', 'observance', 'timedo', 'clearlyand', 'considerably', 'alarm', 'halfashamed', 'famous', 'course', 'thingsuch', 'decision', 'conducting', 'sirdid', 'bandied', 'exultingly', 'upthere', 'indeedthen', 'particulars', 'periods', 'approachnew', 'bending', 'commiseration', 'sentence', 'gratefully', 'thoughtsshe', 'troubles', 'modestly', 'insinuate', 'seek', 'shoes', 'dixons', 'wishedyou', 'precious', 'particularity', 'unqualified', 'tempercertainly', 'safest', 'bath', 'risks', 'recurrence', 'blinded', 'folded', 'skilful', 'softening', 'youand', 'allyour', 'lending', 'meat', 'noin', 'wisebut', 'passed', 'vouchsafing', 'goodhumoured', 'recollections', 'suspicion', 'momenthow', 'rack', 'tremulous', 'timenever', 'truewell', 'interestedbut', 'knightleythis', 'loth', 'recollect', 'healed', 'walker', 'lives', 'riddle', 'miles', 'wretchedness', 'consciousnessmiss', 'jumping', 'narration', 'hue', 'mistress', 'knowoh', 'drops', 'argumentative', 'abroad', 'colesupon', 'ridecould', 'harmonise', 'solitary', 'gardensshe', 'reports', 'nephew', 'go', 'meyou', 'forgave', 'lateness', 'poverty', 'sakebe', 'usual', 'cream', 'hesitatinglyi', 'fairy', 'innocent', 'seize', 'owning', 'conclude', 'differentwhich', 'papai', 'die', 'shaking', 'solemn', 'medley', 'accumulation', 'cooler', 'broadwood', 'scanty', 'herjames', 'pleasantest', 'chancei', 'playfully', 'continue', 'themthe', 'fourteen', 'woodhousehow', 'wellbred', 'antidote', 'likewise', 'recalled', 'ending', 'middling', 'spacious', 'language', 'neither', 'uninterrupted', 'dwelling', 'prominent', 'selfishnesswhat', 'motherinlaws', 'donkeys', 'attribute', 'cavil', 'perfect', 'discern', 'mystery', 'gratifying', 'motherly', 'animated', 'blood', 'itthough', 'sucking', 'toospeaking', 'levity', 'nineteen', 'pausewhat', 'thickheaded', 'perhapsi', 'morningwe', 'history', 'himwilliam', 'riddlebook', 'achievement', 'manthought', 'ohyou', 'certainlyi', 'retreated', 'allusion', 'womanhere', 'triumph', 'devil', 'bake', '10000', 'sleek', 'fluctuations', 'carriage', '8th', 'mildest', 'yes', 'understanddearest', 'patch', 'stupidest', 'save', 'anxiously', 'demand', 'forgive', 'admits', 'ladylikeand', 'intrigue', 'transplantation', 'do', 'issued', 'prettily', 'restraint', 'relation', 'post', 'returnedand', 'numbers', 'offers', 'ridicule', 'rubbers', 'bangs', 'improve', 'intermediate', 'tell', 'reigns', 'sends', 'irritated', 'danger', 'letteronly', 'sir', 'headteacher', 'ridiculous', 'exchanged', 'anotherit', 'bloom', 'shrugged', 'garden', 'understandingreally', 'matters', 'gipsiesit', 'apologies', 'feigning', 'pressure', 'undoubtedlyshe', 'rice', 'transplanted', 'kindbut', 'welli', 'full', 'yearshow', 'leavetaking', 'stout', 'recall', 'separations', 'female', 'indeedmiss', 'filled', 'neighbour', 'colouring', 'mournful', 'nothing', 'letterbut', 'jumped', 'westonso', 'price', 'years', 'robbed', 'released', 'risking', 'continued', 'cruel', 'discovered', 'perceiving', 'independence', 'alter', 'himselfhow', 'consequently', 'endeavour', 'taylornor', 'familyestatewas', 'seata', 'vanish', 'relations', 'inequality', 'services', 'comparative', 'pass', 'madness', 'aunt', 'pronounce', 'creditable', 'intelligibleno', 'winning', 'great', 'admiration', 'loin', 'papas', 'fluently', 'wisest', 'elderly', 'prepossessing', 'beautiful', 'inconsistency', 'getting', 'haphazard', 'womanengaged', 'silently', 'farthershould', 'morningdo', 'unhealthy', 'warrant', 'grey', 'finger', 'bethen', 'angel', 'seas', 'unlucky', 'up', 'acquaintedthey', 'affecting', 'popularity', 'held', 'void', 'main', 'saved', 'bordered', 'stand', 'suchbut', 'denial', 'mixed', 'diningroom', 'perfection', 'thanks', 'enumerate', 'partridge', 'doorsshe', 'remarkable', 'purchase', 'refreshments', 'illfame', 'extraordinaryshe', 'avoiding', 'killed', 'oughthad', 'doth', 'coach', 'roused', 'sideafter', 'shine', 'ianne', 'expeditiousi', 'surprise', 'retort', 'repugnance', 'bateswe', 'worry', 'prevented', 'vanitybaits', 'avenue', 'causes', 'successful', 'gladly', 'matterha', 'harrietand', 'tolerablebut', 'justified', 'youthful', 'beganstopping', 'occurrencethe', 'educating', 'transfer', 'itcramer', 'proposal', 'angles', 'captiouswe', 'sacks', 'choose', 'limes', 'governed', 'heat', 'fidget', 'penance', 'matrimonial', 'classing', 'complimented', 'guest', 'whatever', 'explanations', 'heroism', 'thaw', 'kinder', 'advancing', 'manner', 'readnot', 'argued', 'large', 'affronted', 'unsullied', 'curs', 'creatures', 'shifted', 'wonderings', 'kingston', 'othersyou', 'difficulty', 'positively', 'match', 'fairone', 'threeandtwentyis', 'carrying', 'pack', 'feminine', 'reality', 'surely', 'why', 'dispositions', 'ninetynine', 'eveningwell', 'cooling', 'fairfaxa', 'real', 'pretensions', 'moreand', 'contribution', 'superseded', 'parade', 'donothing', 'contemplationas', 'courseand', 'casei', 'concise', 'informationbut', 'qualifying', 'heart', 'longest', 'treachery', 'rise', 'perpetually', 'particularly', 'pardoned', 'exquisite', 'third', 'respected', 'fell', 'youth', 'wool', 'ceremony', 'sinsand', 'deposit', 'unluckily', 'maple', 'knightley', 'feels', 'marrying', 'proudly', 'uppermost', 'girlsdelightful', 'creditably', 'what', 'soft', 'eye', 'seabathing', 'stanza', 'exciting', 'visits', 'protestonly', 'illbestowed', 'attained', 'receive', 'surprizedvery', 'shadow', 'linendraper', 'every', 'melancholy', 'himwas', 'recovering', 'eyesemmas', 'nowbirth', 'forestall', 'goodnature', 'oldhow', 'sees', 'scruple', 'porki', 'ofand', 'necessity', 'informationat', 'momentafter', 'shame', 'thin', 'disinterestedness', 'executing', 'occasion', 'inferred', 'lessening', 'sky', 'atand', 'practised', 'excites', 'misinterpreted', 'divided', 'securedmarriage', 'relieve', 'lord', 'weaknessbut', 'accountshe', 'blameless', 'marryno', 'excuse', 'sharp', 'sufferings', 'fried', 'delay', 'counsellor', 'mornings', 'revived', 'absentbut', 'inobserving', 'tired', 'ingratiating', 'throatjust', 'indeedto', 'noi', 'brick', 'sashed', 'hawkinss', 'wrist', 'accusation', 'thanksfor', 'cried', 'sofor', 'unconcern', 'vigour', 'wifeit', 'porkbut', 'furnished', 'keen', 'wept', 'opinion', 'strength', 'clung', 'obligingfrank', 'sadbut', 'indid', 'fasten', 'dispelled', 'doall', 'amiable', 'rarely', 'draw', 'worseif', 'tears', 'strangers', 'pitch', 'habits', 'illthat', 'benevolence', 'illness', 'mildness', 'rightminded', 'lacing', 'personal', 'bordering', 'adoption', 'tranquil', 'himnay', 'courage', 'became', 'irritation', 'abrupt', 'loveliness', 'hinting', 'recollectmr', 'emmaoffended', 'officious', 'friendany', 'penury', 'withi', 'bought', 'ideasher', 'increasing', 'direct', 'eltonsa', 'precautions', 'predictions', 'impute', 'careful', 'circleexploring', 'sirwe', 'crosses', 'itselinas', 'bond', 'errand', 'changed', 'succeeded', 'dressed', 'infantry', 'my', 'drive', 'complexion', 'cows', 'receiving', 'admirably', 'help', 'catch', 'none', 'buyings', 'welldoing', 'threw', 'painno', 'likeonly', 'sidewell', 'tobut', 'suitable', 'spotyes', 'dancers', 'occasional', 'peace', 'coarse', 'frozen', 'smith', 'taylorbut', 'larkinss', 'loved', 'falsehood', 'auspices', 'oldfashioned', 'originating', 'remains', 'many', 'twoand', 'aspersion', 'conditioning', 'intellectual', 'character', 'coarser', 'quest', 'jewels', 'tooth', 'couldah', 'circumstances', 'joy', 'arei', 'doingwhether', 'vex', 'rested', 'discrimination', 'disappearing', 'affect', 'charitable', 'ajar', 'enjoyments', 'unavoidable', 'nofar', 'howeverher', 'altogetheroh', 'doquite', 'timebut', 'arrange', 'question', 'broader', 'indignantly', 'found', 'acceded', 'avowedly', 'vivacity', 'forgetting', 'presentto', 'prisoner', 'respite', 'armactually', 'exampleupon', 'dublin', 'inclining', 'recommendations', 'instrumentnot', 'adelaide', 'fight', 'tremble', 'nowhat', 'absence', 'eagerness', 'romantic', 'unmirthful', 'reproachful', 'purpose', 'advance', 'qualities', 'exception', 'conundrums', 'enscombein', 'example', 'isso', 'clearly', 'gloried', 'workbasket', 'ignorance', 'seeming', 'owed', 'testifies', 'beautifully', 'wholelengthmy', 'atonement', 'deserted', 'attended', 'thirda', 'institute', 'correctly', 'break', 'proportionate', 'meadows', 'teazed', 'itwhat', 'criedwellthen', 'reign', 'fuller', 'despoiling', 'lodgings', 'waverings', 'nothingand', 'remove', 'lower', 'neighbourhoodhighbury', 'domiss', 'deafer', 'wellas', 'claiming', 'woodhousei', 'dreamer', 'movehe', 'deed', 'smallersized', 'today', 'justiceonly', 'ago', 'than', 'consisting', 'alert', 'nohow', 'entirely', 'over', 'substitute', 'nowsaid', 'covering', 'soul', 'picnic', 'palliate', 'otway', 'staid', 'rudeness', 'oh', 'mischief', 'envied', 'displeased', 'puppies', 'effusions', 'voice', 'diligence', 'fearful', 'lively', 'vouchsafed', 'loves', 'inno', 'hawkinsi', 'tribute', 'various', 'papa', 'omit', 'detached', 'deserve', 'journeyonly', 'finish', 'familiarise', 'widely', 'trident', 'fraud', 'properly', 'softer', 'dinnerparty', 'vigorously', 'social', 'mathematician', 'bent', 'emma', 'interrupted', 'throat', 'memorandum', 'description', 'world', 'insignificance', 'careless', 'compliments', 'find', 'recovered', 'sufferedpilfering', 'roast', 'upthe', 'butcher', 'amyou', 'spoon', 'survive', 'acknowledgedwhat', 'advice', 'compliance', 'heartily', 'military', 'disagreeables', 'novitiate', 'meme', 'intermission', 'surmised', 'dwindled', 'knightleybut', 'divert', 'agitate', 'few', 'yousaid', 'itwhy', 'deciding', 'confidantes', 'war', 'quarter', 'luckymarrying', 'deficient', 'sensation', 'horseback', 'hat', 'chamber', 'indulgence', 'curve', 'attachment', 'shortness', 'rendering', 'affectionately', 'bell', 'dreaded', 'astonished', 'guilty', 'overheard', 'flattered', 'tyrannic', 'caution', 'acknowledgments', 'stationing', 'goyou', 'softness', 'consumption', 'conveyed', 'examining', 'iii', 'reprove', 'yorkshire', 'bathing', 'goodbreeding', 'inquirieswas', 'wifefor', 'alarming', 'broth', 'isabellawhich', 'acquit', 'ball', 'guidable', 'knife', 'cautioni', 'establish', 'constitutions', 'connivance', 'emphatically', 'due', 'entreat', 'unfelt', 'distrusted', 'later', 'alleviation', 'dislike', 'motionless', 'slippery', 'physician', 'including', 'usthey', 'selfcommand', 'unbiased', 'middle', 'praised', 'inwhat', 'men', 'trial', 'an', 'commonplace', 'fed', 'week', 'conducti', 'depended', 'ingeniously', 'wasfortunately', 'hesitating', 'rained', 'astonish', 'unpleasant', 'd', 'involvement', 'ways', 'overbut', 'defiance', 'gain', 'rescue', 'lifeor', 'unemployed', 'chose', 'worst', 'younobody', 'important', 'caprice', 'itcertainly', 'tempers', 'neglected', 'northwardbut', 'cleverness', 'gets', 'soa', 'tomy', 'treated', 'admire', 'impossiblei', 'pride', 'sorrowfully', 'seemthat', 'rumour', 'obliged', 'silence', 'witty', 'screwed', 'misapply', 'recital', 'nightlet', 'tupman', 'overtrimmed', 'annoyance', 'charade', 'answered', 'served', 'appletrees', 'warmest', 'much', 'eligible', 'hit', 'communicating', 'contracted', 'suffice', 'astonishmentthat', 'determine', 'suspicionsi', 'hopehe', 'degradation', 'errors', 'playfulness', 'meals', 'plays', 'band', 'stoppingit', 'allsufficiency', 'escorted', 'sole', 'brilliant', 'deserved', 'whistplayers', 'kind', 'himthe', 'flies', 'perverse', 'enchanting', 'anotherand', 'grahams', 'injurious', 'detail', 'music', 'arguments', 'stoppedthe', 'games', 'wellblaming', 'indeedand', 'early', 'woodhousefor', 'adopt', 'finestlooking', 'justify', 'bar', 'advertising', 'elevate', 'good', 'talkerand', 'henrys', 'classed', 'lamb', 'southward', 'gloomy', 'batess', 'share', 'who', 'comment', 'aloneseemed', 'breath', 'saucy', 'incomprehensible', 'knowno', 'himselfable', 'thither', 'occasionally', 'sayingat', 'friendgive', 'possibilitybut', 'book', 'sensibilities', 'occasions', 'aid', 'listening', 'made', 'mermaid', 'windsorjuly', 'wordsi', 'eyethe', 'arrivedmrs', 'explainthere', 'goodhumouredly', 'definition', 'boiling', 'ladiesmarried', 'insinuatingi', 'fortunate', 'blushed', 'gipsies', 'suffered', 'differ', 'suddenyou', 'gentlemen', 'roomi', 'surprizeand', 'heir', 'truer', 'spent', 'attendance', 'lieu', 'fellows', 'aside', 'firstrate', 'merry', 'wood', 'persisting', 'seduced', 'depend', 'friends', 'reproached', 'weakened', 'persontall', 'sacrificing', 'bottom', 'struggles', 'pleasure', 'bookwas', 'alike', 'reasonably', 'capacities', 'enjoyment', 'weakness', 'alsoit', 'fetched', 'promoting', 'entertaining', 'rouse', 'would', 'engaged', 'approach', 'whist', 'whims', 'xiv', 'ofmr', 'richardson', 'altogether', 'properer', 'insufficient', 'odious', 'gaiters', 'secluded', 'discover', 'satin', 'morningand', 'chusing', 'coachmanno', 'deserves', 'groundplot', 'improving', 'clothed', 'continually', 'utterance', 'businessbut', 'rewarded', 'circulate', 'accommodation', 'thenbut', 'secondrate', 'ableand', 'vicarage', 'cryout', 'decidedly', 'downwhich', 'following', 'behaviourwell', 'caught', 'favourableinstead', 'himsaid', 'answers', 'sore', 'inducements', 'turns', 'caresses', 'coxeoh', 'shared', 'obediencefor', 'disdain', 'red', 'tenderly', 'able', 'chaise', 'relented', 'unfit', 'halfyear', 'agowhat', 'stoutly', 'man', 'senseyour', 'ideadid', 'sideglance', 'visit', 'thingto', 'though', 'misunderstanding', 'triumphantly', 'lowering', 'exploringthese', 'betteror', 'youyou', 'am', 'commissions', 'she', 'pleasing', 'working', 'credithere', 'intolerableand', 'overcharged', 'lifted', 'advancesi', 'hairwith', 'airymr', 'fellowmourners', 'affording', 'talentsi', 'clevercould', 'humble', 'soand', 'pick', 'ninety', 'those', 'unexpensively', 'mutual', 'one', 'employment', 'rapidly', 'alphabetstheir', 'slighted', 'sympathise', 'footsteps', 'plants', 'fairfaxi', 'forever', 'reflecting', 'worsefour', 'palatable', 'needs', 'constitution', 'hearts', 'softest', 'cattle', 'drink', 'union', 'hermrs', 'deservehe', 'ye', 'undoubted', 'clearestheaded', 'disinterested', 'secresythe', 'partners', 'abruptness', 'construction', 'anger', 'really', 'intention', 'ranks', 'library', 'conceived', 'homeand', 'occurrence', 'remarkably', 'top', 'therebut', 'provide', 'coles', 'ingenuousness', 'trifles', 'singularly', 'into', 'perplexed', 'amongst', 'utmostshe', 'whichever', 'pray', 'off', 'direction', 'comparatively', 'venture', 'overrated', 'planned', 'quiet', 'alfresco', 'resolutely', 'bowwindow', 'slightest', 'ladylike', 'consolation', 'crayon', 'repulsed', 'examination', 'screen', 'learn', 'afloat', 'sandwiches', 'birth', 'raving', 'parcel', 'entree', 'exclaiming', 'earnest', 'judged', 'counteract', 'confident', 'musicnever', '23rd', 'stir', 'subjecta', 'otherand', 'properest', 'slight', 'doating', 'dilatory', 'embarrassing', 'adored', 'prevalent', 'anxious', 'matter', 'agony', 'shockwith', 'smithi', 'begins', 'objections', 'notand', 'givefor', 'homebaked', 'nobody', 'himself', 'proofs', 'excess', 'forlorn', 'asparagus', 'newspaper', 'require', 'abundant', 'eyeand', 'toowhat', 'gaining', 'recourse', 'story', 'nephewgave', 'invited', 'composed', 'usually', 'maintaining', 'preparationyou', 'disgrace', 'moments', 'striving', 'briskmoving', 'gentleman', 'most', 'daytill', 'behaviourhushyou', 'mustnot', 'pleases', 'pleasantdid', 'shant', 'disturb', 'generally', 'affected', 'immediately', 'calls', 'conviction', 'cottage', 'infection', 'conceit', 'welland', 'writingmasters', 'solitarily', 'gruelperfectly', 'perplexity', 'compared', 'becoming', 'space', 'myselfexcept', 'bless', 'mat', 'oddities', 'outoh', 'understandwe', 'churchill', 'adversarys', 'purity', 'lime', 'sunbut', 'rejoice', 'which', 'cabbagebeds', 'while', 'face', 'figured', 'pianoforte', 'vexation', 'foretold', 'subjects', 'hurt', 'explored', 'tenfor', 'constantly', 'essaybut', 'turnips', 'detestable', 'correspond', 'storyrobert', 'confidential', 'gravel', 'appledumplings', 'wittier', 'straightforward', 'visiting', 'bitterness', 'true', 'cheerfulness', 'display', 'medo', 'apple', 'vainby', 'numerous', 'housekeeperno', 'vindicated', 'condescending', 'wretches', 'inferiorities', 'knightleyemma', 'fairyland', 'appearthere', 'respecting', 'setting', 'cheerful', 'resenti', 'hercaution', 'infants', 'framed', 'morethey', 'againto', 'gentlemens', 'gather', 'demands', 'of', 'fearfully', 'preparatory', 'cant', 'harriets', 'dears', 'porker', 'taller', 'intellects', 'grandmothers', 'confide', 'eagerly', 'multiplied', 'mitchells', 'womanmost', 'carriagehorses', 'unasked', 'eccentric', 'inch', 'contemptible', 'morality', 'shelter', 'comebut', 'coarseness', 'conceptions', 'misled', 'village', 'delights', 'hurrying', 'comforted', 'provoking', 'strict', 'unwilling', 'contributed', 'treats', 'manan', 'replies', 'newsi', 'saying', 'forsuch', 'marry', 'fatigues', 'dothe', 'desired', 'picturehow', 'respectfully', 'furnish', 'mantelpiece', 'rejection', 'enoughthere', 'easter', 'nowhas', 'helping', 'dangerous', 'fortunethough', 'returnedbut', 'deprived', 'woodhouse', 'devoting', 'attendant', 'housekeepers', 'sofa', 'proportionably', 'where', 'approveso', 'guarded', 'distressing', 'penetration', 'sneers', 'sorrowbut', 'completion', 'choseand', 'knightleymr', 'prejudices', 'serviceand', 'lieut', 'inferiority', 'captious', 'hershe', 'artless', 'sample', 'wet', 'incomehowever', 'sixpences', 'availing', 'greatly', 'stone', 'seizure', 'been', 'inflamed', 'candlelight', 'dessert', 'resided', 'thus', 'nothere', 'uncertain', 'foreseen', 'caseand', 'vicaragethere', 'wrote', 'drifted', 'kitty', 'probabilities', 'invite', 'softly', 'greeted', 'festivity', 'gowith', 'outdo', 'sunshine', 'papanow', 'donei', 'wantonness', 'gathering', 'timesbut', 'ditch', 'overshe', 'happened', 'satisfactorily', 'respectable', 'excluded', 'gently', 'demerits', 'fail', 'compress', 'consoling', 'eyea', 'walnuts', 'foresaw', 'congratulate', 'hoarse', 'near', 'boils', 'dixonvery', 'objectand', 'talents', 'complaint', 'consideryou', 'illhumour', 'consider', 'mighty', 'grief', 'unvarying', 'maam', 'proceeded', 'male', 'acquirements', 'dust', 'inconsistent', 'lapse', 'irresistibly', 'imply', 'subjectto', 'motherindeed', 'seem', 'successively', 'evidently', 'engross', 'censure', 'envious', 'seatsbut', 'bleak', 'sorryoh', 'joyful', 'prettythe', 'nonexistence', 'herehe', 'dinnercompany', 'manbutin', 'appeased', 'undertook', 'messenger', 'veneration', 'reasonfortunate', 'requisition', 'sake', 'distinction', 'called', 'premature', 'nursery', 'abide', 'retired', 'relinquished', 'tumbler', 'occasionto', 'ourselves', 'airy', 'replieddont', 'occurrences', 'gentlemanand', 'counsels', 'posture', 'stretching', 'upquantities', 'hesitatingly', 'matchmaking', 'unexpectedly', 'unfavourable', 'latterly', 'dialogue', 'herselfthe', 'cart', 'domestic', 'vulgar', 'betraying', 'total', 'longed', 'stagnation', 'worsei', 'cool', 'roomhe', 'coaches', 'mewhat', 'upbraid', 'his', 'sunk', 'arrival', 'indeedquite', 'false', 'woollendraper', 'precision', 'equalthis', 'dawdling', 'that', 'scattered', 'approver', 'easier', 'emmadiffering', 'businessselina', 'favourite', 'young', 'apiece', 'engrossed', 'school', 'upright', 'thingsbut', 'realised', 'shopor', 'indeedthis', 'consistent', 'supper', 'gossip', 'threaten', 'needed', 'churchillmust', 'effecti', 'michaelmas', 'ring', 'bathindeed', 'harrietdoes', 'state', 'asserted', 'expect', 'conundrum', 'dueor', 'demure', 'yielded', 'horror', 'profusioni', 'basin', 'associates', 'wrapt', 'awakened', 'seen', 'attachmentwhether', 'exercises', 'backgammontea', 'uncertainty', 'papathat', 'shoulder', 'constrain', 'hush', 'interview', 'referring', 'patience', 'shethis', 'perry', 'fast', 'forestalling', 'unnecessarily', 'paradings', 'languor', 'is', 'shrubberythere', 'odd', 'inclines', 'spreading', 'returnedsomebody', 'author', 'represent', 'answeryou', 'boardingschool', 'goddard', 'uselesshad', 'bursts', 'study', 'conclusion', 'privations', 'respect', 'wifes', 'concurrence', 'solidity', 'emmayou', 'london', 'even', 'indisposition', 'vouchsafe', 'fly', 'fatherand', 'injured', 'improves', 'illcertainly', 'confessed', 'bristolmaple', 'closed', 'unclosed', 'support', 'without', 'harrietnever', 'justest', 'upparties', 'esteeming', 'societythe', 'pleasanter', 'beginnings', 'peremptorily', 'neverbless', 'attachedand', 'sorrybut', 'proprietythe', 'harry', 'complaisant', 'soothing', 'business', 'sober', 'amusement', 'himselfand', 'ended', 'presentand', 'gesture', 'renounced', 'happyfrom', 'abdys', 'prudent', 'conversationand', 'momentmy', 'sheepskin', 'fragrance', 'citizen', 'compassionand', 'strikingly', 'mortification', 'miserable', 'refine', 'todayand', 'x', 'home', 'pays', 'prefer', 'obedience', 'haberdashers', 'imprudent', 'dependent', 'supperroom', 'explain', 'weakly', 'attentively', 'insensible', 'feelingthere', 'appealed', 'sharks', 'discourse', 'agohow', 'indistinctness', 'harrietsuch', 'human', 'longerhe', 'staying', 'gallant', 'usuala', 'dispense', 'widowerfather', 'conquest', 'master', 'astonishingshe', 'grossly', 'worldbrought', 'thingwho', 'mens', 'sigh', 'fools', 'belonged', 'generations', 'oppose', 'astray', 'offending', 'shake', 'cut', 'double', 'hedges', 'heaven', 'affords', 'friendshipindignationabominable', 'mermaids', 'curlsthis', 'changes', 'bewitching', 'teaches', 'declare', 'worshipped', 'values', 'smallness', 'wrong', 'sacred', 'directly', 'thembut', 'thank', 'prone', 'softhearted', 'letting', 'matchi', 'across', 'loss', 'williams', 'mannersand', 'spoke', 'inventionthere', 'overand', 'spending', 'noise', 'placidity', 'recordable', 'thoughtbut', 'readmum', 'accused', 'gout', 'romance', 'permit', 'ties', 'drawings', 'hermr', 'presume', 'pushof', 'morningno', 'excepting', 'unnecessarilyshe', 'john', 'enlarge', 'decent', 'pleasant', 'noble', 'beau', 'usit', 'thoughtlessness', 'childrenhow', 'sothen', 'butchers', 'heathe', 'complacentlythat', 'beauty', 'unaffected', 'accountwe', 'knowit', 'struck', 'extraordinaryand', 'hesitation', 'serenity', 'relish', 'sheone', 'fairfaxs', 'hannah', 'saffron', 'liberality', 'elsewhich', 'outreethose'}\n"
     ]
    },
    {
     "ename": "AttributeError",
     "evalue": "'set' object has no attribute 'items'",
     "output_type": "error",
     "traceback": [
      "\u001b[0;31m---------------------------------------------------------------------------\u001b[0m",
      "\u001b[0;31mAttributeError\u001b[0m                            Traceback (most recent call last)",
      "\u001b[0;32m<ipython-input-80-dde20972dcbb>\u001b[0m in \u001b[0;36m<module>\u001b[0;34m()\u001b[0m\n\u001b[1;32m     14\u001b[0m \u001b[0moutfile\u001b[0m \u001b[0;34m=\u001b[0m \u001b[0mopen\u001b[0m\u001b[0;34m(\u001b[0m\u001b[0mDATA_PATH\u001b[0m\u001b[0;34m+\u001b[0m\u001b[0;34m'data/austen-frequency-distribution.txt'\u001b[0m\u001b[0;34m,\u001b[0m\u001b[0mmode\u001b[0m \u001b[0;34m=\u001b[0m\u001b[0;34m'w'\u001b[0m\u001b[0;34m)\u001b[0m\u001b[0;34m\u001b[0m\u001b[0m\n\u001b[1;32m     15\u001b[0m \u001b[0;34m\u001b[0m\u001b[0m\n\u001b[0;32m---> 16\u001b[0;31m \u001b[0;32mfor\u001b[0m \u001b[0mword\u001b[0m\u001b[0;34m,\u001b[0m \u001b[0mfrequency\u001b[0m \u001b[0;32min\u001b[0m \u001b[0mfrequency_distribution\u001b[0m\u001b[0;34m.\u001b[0m\u001b[0mitems\u001b[0m\u001b[0;34m(\u001b[0m\u001b[0;34m)\u001b[0m\u001b[0;34m:\u001b[0m\u001b[0;34m\u001b[0m\u001b[0m\n\u001b[0m\u001b[1;32m     17\u001b[0m     \u001b[0moutfile\u001b[0m\u001b[0;34m.\u001b[0m\u001b[0mwrite\u001b[0m\u001b[0;34m(\u001b[0m\u001b[0mword\u001b[0m \u001b[0;34m+\u001b[0m \u001b[0;34m\";\"\u001b[0m \u001b[0;34m+\u001b[0m \u001b[0mstr\u001b[0m\u001b[0;34m(\u001b[0m\u001b[0mfrequency\u001b[0m\u001b[0;34m)\u001b[0m \u001b[0;34m+\u001b[0m \u001b[0;34m'\\n'\u001b[0m\u001b[0;34m)\u001b[0m\u001b[0;34m\u001b[0m\u001b[0m\n\u001b[1;32m     18\u001b[0m \u001b[0;34m\u001b[0m\u001b[0m\n",
      "\u001b[0;31mAttributeError\u001b[0m: 'set' object has no attribute 'items'"
     ]
    }
   ],
   "source": [
    "# first open and read DATA_PATH + data/austen-emma.txt. Don't forget to close the infile\n",
    "infile = open(DATA_PATH + 'data/austen-emma.txt')\n",
    "text = infile.read()# read the contents of the infile\n",
    "infile.close()# close the file handler\n",
    "text=remove_punc2(text)\n",
    "text = clean_text(text)# clean the text\n",
    "# next compute the frequency distribution using the function counter\n",
    "word3=text.split()\n",
    "word3 = counter(word3)\n",
    "print(word3)\n",
    "#frequency_distribution = \n",
    "unique_words = set(word3)\n",
    "# now open the file austen-frequency-distribution.txt for writing\n",
    "outfile = open(DATA_PATH+'data/austen-frequency-distribution.txt',mode ='w')\n",
    "\n",
    "for word, frequency in frequency_distribution.items():\n",
    "    outfile.write(word + \";\" + str(frequency) + '\\n')\n",
    "    \n",
    "# close the outfile\n",
    "outfile.close()"
   ]
  },
  {
   "cell_type": "markdown",
   "metadata": {},
   "source": [
    "---"
   ]
  }
 ],
 "metadata": {
  "kernelspec": {
   "display_name": "Python 3",
   "language": "python",
   "name": "python3"
  },
  "language_info": {
   "codemirror_mode": {
    "name": "ipython",
    "version": 3
   },
   "file_extension": ".py",
   "mimetype": "text/x-python",
   "name": "python",
   "nbconvert_exporter": "python",
   "pygments_lexer": "ipython3",
   "version": "3.5.3"
  }
 },
 "nbformat": 4,
 "nbformat_minor": 1
}
